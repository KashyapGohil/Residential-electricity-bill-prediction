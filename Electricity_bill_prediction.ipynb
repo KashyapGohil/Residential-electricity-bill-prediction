{
  "nbformat": 4,
  "nbformat_minor": 5,
  "metadata": {
    "kernelspec": {
      "display_name": "Python 3",
      "language": "python",
      "name": "python3"
    },
    "language_info": {
      "codemirror_mode": {
        "name": "ipython",
        "version": 3
      },
      "file_extension": ".py",
      "mimetype": "text/x-python",
      "name": "python",
      "nbconvert_exporter": "python",
      "pygments_lexer": "ipython3",
      "version": "3.7.10"
    },
    "colab": {
      "name": "Electricity_bill_prediction.ipynb",
      "provenance": [],
      "collapsed_sections": [
        "V5ztIwKlJOtG",
        "UT7vyiHdF5FB",
        "MjfASBaziZI8",
        "Tszc393_OH3Y"
      ]
    },
    "accelerator": "GPU",
    "widgets": {
      "application/vnd.jupyter.widget-state+json": {
        "83a5b92fe1ff44aa834e136351916d20": {
          "model_module": "@jupyter-widgets/controls",
          "model_name": "HBoxModel",
          "state": {
            "_view_name": "HBoxView",
            "_dom_classes": [],
            "_model_name": "HBoxModel",
            "_view_module": "@jupyter-widgets/controls",
            "_model_module_version": "1.5.0",
            "_view_count": null,
            "_view_module_version": "1.5.0",
            "box_style": "",
            "layout": "IPY_MODEL_cb4cb41b42584c92b1f2c3a84485e3a6",
            "_model_module": "@jupyter-widgets/controls",
            "children": [
              "IPY_MODEL_8184ec2b01cf4b11808ddb0394863f73",
              "IPY_MODEL_24f810d60d2f4e5cb15b04b6cbb20343"
            ]
          }
        },
        "cb4cb41b42584c92b1f2c3a84485e3a6": {
          "model_module": "@jupyter-widgets/base",
          "model_name": "LayoutModel",
          "state": {
            "_view_name": "LayoutView",
            "grid_template_rows": null,
            "right": null,
            "justify_content": null,
            "_view_module": "@jupyter-widgets/base",
            "overflow": null,
            "_model_module_version": "1.2.0",
            "_view_count": null,
            "flex_flow": null,
            "width": null,
            "min_width": null,
            "border": null,
            "align_items": null,
            "bottom": null,
            "_model_module": "@jupyter-widgets/base",
            "top": null,
            "grid_column": null,
            "overflow_y": null,
            "overflow_x": null,
            "grid_auto_flow": null,
            "grid_area": null,
            "grid_template_columns": null,
            "flex": null,
            "_model_name": "LayoutModel",
            "justify_items": null,
            "grid_row": null,
            "max_height": null,
            "align_content": null,
            "visibility": null,
            "align_self": null,
            "height": null,
            "min_height": null,
            "padding": null,
            "grid_auto_rows": null,
            "grid_gap": null,
            "max_width": null,
            "order": null,
            "_view_module_version": "1.2.0",
            "grid_template_areas": null,
            "object_position": null,
            "object_fit": null,
            "grid_auto_columns": null,
            "margin": null,
            "display": null,
            "left": null
          }
        },
        "8184ec2b01cf4b11808ddb0394863f73": {
          "model_module": "@jupyter-widgets/controls",
          "model_name": "FloatProgressModel",
          "state": {
            "_view_name": "ProgressView",
            "style": "IPY_MODEL_afa270b4114542bba805b1e685dc8bc1",
            "_dom_classes": [],
            "description": "100%",
            "_model_name": "FloatProgressModel",
            "bar_style": "success",
            "max": 100,
            "_view_module": "@jupyter-widgets/controls",
            "_model_module_version": "1.5.0",
            "value": 100,
            "_view_count": null,
            "_view_module_version": "1.5.0",
            "orientation": "horizontal",
            "min": 0,
            "description_tooltip": null,
            "_model_module": "@jupyter-widgets/controls",
            "layout": "IPY_MODEL_be20b79591ad489eabb8ebdb3a5a9732"
          }
        },
        "24f810d60d2f4e5cb15b04b6cbb20343": {
          "model_module": "@jupyter-widgets/controls",
          "model_name": "HTMLModel",
          "state": {
            "_view_name": "HTMLView",
            "style": "IPY_MODEL_cd9d75fa8df241f5958863126dfabe69",
            "_dom_classes": [],
            "description": "",
            "_model_name": "HTMLModel",
            "placeholder": "​",
            "_view_module": "@jupyter-widgets/controls",
            "_model_module_version": "1.5.0",
            "value": " 100/100 [02:25&lt;00:00,  1.46s/it]",
            "_view_count": null,
            "_view_module_version": "1.5.0",
            "description_tooltip": null,
            "_model_module": "@jupyter-widgets/controls",
            "layout": "IPY_MODEL_f2581bb3a287401e94bdcbfd110b1a67"
          }
        },
        "afa270b4114542bba805b1e685dc8bc1": {
          "model_module": "@jupyter-widgets/controls",
          "model_name": "ProgressStyleModel",
          "state": {
            "_view_name": "StyleView",
            "_model_name": "ProgressStyleModel",
            "description_width": "initial",
            "_view_module": "@jupyter-widgets/base",
            "_model_module_version": "1.5.0",
            "_view_count": null,
            "_view_module_version": "1.2.0",
            "bar_color": null,
            "_model_module": "@jupyter-widgets/controls"
          }
        },
        "be20b79591ad489eabb8ebdb3a5a9732": {
          "model_module": "@jupyter-widgets/base",
          "model_name": "LayoutModel",
          "state": {
            "_view_name": "LayoutView",
            "grid_template_rows": null,
            "right": null,
            "justify_content": null,
            "_view_module": "@jupyter-widgets/base",
            "overflow": null,
            "_model_module_version": "1.2.0",
            "_view_count": null,
            "flex_flow": null,
            "width": null,
            "min_width": null,
            "border": null,
            "align_items": null,
            "bottom": null,
            "_model_module": "@jupyter-widgets/base",
            "top": null,
            "grid_column": null,
            "overflow_y": null,
            "overflow_x": null,
            "grid_auto_flow": null,
            "grid_area": null,
            "grid_template_columns": null,
            "flex": null,
            "_model_name": "LayoutModel",
            "justify_items": null,
            "grid_row": null,
            "max_height": null,
            "align_content": null,
            "visibility": null,
            "align_self": null,
            "height": null,
            "min_height": null,
            "padding": null,
            "grid_auto_rows": null,
            "grid_gap": null,
            "max_width": null,
            "order": null,
            "_view_module_version": "1.2.0",
            "grid_template_areas": null,
            "object_position": null,
            "object_fit": null,
            "grid_auto_columns": null,
            "margin": null,
            "display": null,
            "left": null
          }
        },
        "cd9d75fa8df241f5958863126dfabe69": {
          "model_module": "@jupyter-widgets/controls",
          "model_name": "DescriptionStyleModel",
          "state": {
            "_view_name": "StyleView",
            "_model_name": "DescriptionStyleModel",
            "description_width": "",
            "_view_module": "@jupyter-widgets/base",
            "_model_module_version": "1.5.0",
            "_view_count": null,
            "_view_module_version": "1.2.0",
            "_model_module": "@jupyter-widgets/controls"
          }
        },
        "f2581bb3a287401e94bdcbfd110b1a67": {
          "model_module": "@jupyter-widgets/base",
          "model_name": "LayoutModel",
          "state": {
            "_view_name": "LayoutView",
            "grid_template_rows": null,
            "right": null,
            "justify_content": null,
            "_view_module": "@jupyter-widgets/base",
            "overflow": null,
            "_model_module_version": "1.2.0",
            "_view_count": null,
            "flex_flow": null,
            "width": null,
            "min_width": null,
            "border": null,
            "align_items": null,
            "bottom": null,
            "_model_module": "@jupyter-widgets/base",
            "top": null,
            "grid_column": null,
            "overflow_y": null,
            "overflow_x": null,
            "grid_auto_flow": null,
            "grid_area": null,
            "grid_template_columns": null,
            "flex": null,
            "_model_name": "LayoutModel",
            "justify_items": null,
            "grid_row": null,
            "max_height": null,
            "align_content": null,
            "visibility": null,
            "align_self": null,
            "height": null,
            "min_height": null,
            "padding": null,
            "grid_auto_rows": null,
            "grid_gap": null,
            "max_width": null,
            "order": null,
            "_view_module_version": "1.2.0",
            "grid_template_areas": null,
            "object_position": null,
            "object_fit": null,
            "grid_auto_columns": null,
            "margin": null,
            "display": null,
            "left": null
          }
        }
      }
    }
  },
  "cells": [
    {
      "cell_type": "code",
      "metadata": {
        "id": "executed-atlantic",
        "colab": {
          "base_uri": "https://localhost:8080/",
          "height": 0
        },
        "outputId": "58923761-eb93-4688-975c-c6481900ac89"
      },
      "source": [
        "import pandas as pd\n",
        "import numpy as np\n",
        "import matplotlib.pyplot as plt \n",
        "import seaborn as sns\n",
        "import re\n",
        "\n",
        "from sklearn.model_selection import train_test_split\n",
        "from sklearn.model_selection import StratifiedKFold\n",
        "from sklearn.preprocessing import StandardScaler\n",
        "\n",
        "from sklearn.linear_model import LinearRegression\n",
        "from sklearn.ensemble import RandomForestRegressor\n",
        "from xgboost import XGBRegressor\n",
        "from xgboost import XGBRFRegressor\n",
        "import xgboost\n",
        "import lightgbm as lgb\n",
        "\n",
        "!pip install optuna\n",
        "import optuna\n",
        "from sklearn.model_selection import GridSearchCV\n",
        "from sklearn.metrics import mean_squared_error,r2_score,mean_absolute_error\n",
        "from math import sqrt"
      ],
      "id": "executed-atlantic",
      "execution_count": 149,
      "outputs": [
        {
          "output_type": "stream",
          "text": [
            "Requirement already satisfied: optuna in /usr/local/lib/python3.7/dist-packages (2.8.0)\n",
            "Requirement already satisfied: cmaes>=0.8.2 in /usr/local/lib/python3.7/dist-packages (from optuna) (0.8.2)\n",
            "Requirement already satisfied: numpy in /usr/local/lib/python3.7/dist-packages (from optuna) (1.19.5)\n",
            "Requirement already satisfied: scipy!=1.4.0 in /usr/local/lib/python3.7/dist-packages (from optuna) (1.4.1)\n",
            "Requirement already satisfied: colorlog in /usr/local/lib/python3.7/dist-packages (from optuna) (5.0.1)\n",
            "Requirement already satisfied: sqlalchemy>=1.1.0 in /usr/local/lib/python3.7/dist-packages (from optuna) (1.4.18)\n",
            "Requirement already satisfied: packaging>=20.0 in /usr/local/lib/python3.7/dist-packages (from optuna) (20.9)\n",
            "Requirement already satisfied: cliff in /usr/local/lib/python3.7/dist-packages (from optuna) (3.8.0)\n",
            "Requirement already satisfied: alembic in /usr/local/lib/python3.7/dist-packages (from optuna) (1.6.5)\n",
            "Requirement already satisfied: tqdm in /usr/local/lib/python3.7/dist-packages (from optuna) (4.41.1)\n",
            "Requirement already satisfied: importlib-metadata; python_version < \"3.8\" in /usr/local/lib/python3.7/dist-packages (from sqlalchemy>=1.1.0->optuna) (4.5.0)\n",
            "Requirement already satisfied: greenlet!=0.4.17; python_version >= \"3\" in /usr/local/lib/python3.7/dist-packages (from sqlalchemy>=1.1.0->optuna) (1.1.0)\n",
            "Requirement already satisfied: pyparsing>=2.0.2 in /usr/local/lib/python3.7/dist-packages (from packaging>=20.0->optuna) (2.4.7)\n",
            "Requirement already satisfied: cmd2>=1.0.0 in /usr/local/lib/python3.7/dist-packages (from cliff->optuna) (2.1.1)\n",
            "Requirement already satisfied: PyYAML>=3.12 in /usr/local/lib/python3.7/dist-packages (from cliff->optuna) (3.13)\n",
            "Requirement already satisfied: pbr!=2.1.0,>=2.0.0 in /usr/local/lib/python3.7/dist-packages (from cliff->optuna) (5.6.0)\n",
            "Requirement already satisfied: stevedore>=2.0.1 in /usr/local/lib/python3.7/dist-packages (from cliff->optuna) (3.3.0)\n",
            "Requirement already satisfied: PrettyTable>=0.7.2 in /usr/local/lib/python3.7/dist-packages (from cliff->optuna) (2.1.0)\n",
            "Requirement already satisfied: python-dateutil in /usr/local/lib/python3.7/dist-packages (from alembic->optuna) (2.8.1)\n",
            "Requirement already satisfied: python-editor>=0.3 in /usr/local/lib/python3.7/dist-packages (from alembic->optuna) (1.0.4)\n",
            "Requirement already satisfied: Mako in /usr/local/lib/python3.7/dist-packages (from alembic->optuna) (1.1.4)\n",
            "Requirement already satisfied: typing-extensions>=3.6.4; python_version < \"3.8\" in /usr/local/lib/python3.7/dist-packages (from importlib-metadata; python_version < \"3.8\"->sqlalchemy>=1.1.0->optuna) (3.7.4.3)\n",
            "Requirement already satisfied: zipp>=0.5 in /usr/local/lib/python3.7/dist-packages (from importlib-metadata; python_version < \"3.8\"->sqlalchemy>=1.1.0->optuna) (3.4.1)\n",
            "Requirement already satisfied: attrs>=16.3.0 in /usr/local/lib/python3.7/dist-packages (from cmd2>=1.0.0->cliff->optuna) (21.2.0)\n",
            "Requirement already satisfied: colorama>=0.3.7 in /usr/local/lib/python3.7/dist-packages (from cmd2>=1.0.0->cliff->optuna) (0.4.4)\n",
            "Requirement already satisfied: pyperclip>=1.6 in /usr/local/lib/python3.7/dist-packages (from cmd2>=1.0.0->cliff->optuna) (1.8.2)\n",
            "Requirement already satisfied: wcwidth>=0.1.7 in /usr/local/lib/python3.7/dist-packages (from cmd2>=1.0.0->cliff->optuna) (0.2.5)\n",
            "Requirement already satisfied: six>=1.5 in /usr/local/lib/python3.7/dist-packages (from python-dateutil->alembic->optuna) (1.15.0)\n",
            "Requirement already satisfied: MarkupSafe>=0.9.2 in /usr/local/lib/python3.7/dist-packages (from Mako->alembic->optuna) (2.0.1)\n"
          ],
          "name": "stdout"
        }
      ]
    },
    {
      "cell_type": "code",
      "metadata": {
        "id": "micro-modem"
      },
      "source": [
        "import warnings\n",
        "warnings.filterwarnings(\"ignore\")"
      ],
      "id": "micro-modem",
      "execution_count": 150,
      "outputs": []
    },
    {
      "cell_type": "code",
      "metadata": {
        "colab": {
          "base_uri": "https://localhost:8080/",
          "height": 0
        },
        "id": "GVWDTCn-BuU-",
        "outputId": "b16eb79a-6d92-4eff-f637-21024d499bd4"
      },
      "source": [
        "from google.colab import drive\n",
        "drive.mount('/content/drive')"
      ],
      "id": "GVWDTCn-BuU-",
      "execution_count": 151,
      "outputs": [
        {
          "output_type": "stream",
          "text": [
            "Drive already mounted at /content/drive; to attempt to forcibly remount, call drive.mount(\"/content/drive\", force_remount=True).\n"
          ],
          "name": "stdout"
        }
      ]
    },
    {
      "cell_type": "code",
      "metadata": {
        "id": "eligible-intranet"
      },
      "source": [
        "df = pd.read_csv(\"/content/drive/MyDrive/Electricity_bill_prediction  /finalinputs.csv\")"
      ],
      "id": "eligible-intranet",
      "execution_count": 152,
      "outputs": []
    },
    {
      "cell_type": "code",
      "metadata": {
        "colab": {
          "base_uri": "https://localhost:8080/",
          "height": 0
        },
        "id": "weird-louis",
        "outputId": "1e717a81-0d08-4078-e270-8771fd2da8d5"
      },
      "source": [
        "df.shape"
      ],
      "id": "weird-louis",
      "execution_count": 153,
      "outputs": [
        {
          "output_type": "execute_result",
          "data": {
            "text/plain": [
              "(12083, 24)"
            ]
          },
          "metadata": {
            "tags": []
          },
          "execution_count": 153
        }
      ]
    },
    {
      "cell_type": "code",
      "metadata": {
        "colab": {
          "base_uri": "https://localhost:8080/",
          "height": 226
        },
        "id": "brazilian-casting",
        "outputId": "db76b3e4-69a1-4061-a50b-45aaeb86a15a"
      },
      "source": [
        "df.head()"
      ],
      "id": "brazilian-casting",
      "execution_count": 154,
      "outputs": [
        {
          "output_type": "execute_result",
          "data": {
            "text/html": [
              "<div>\n",
              "<style scoped>\n",
              "    .dataframe tbody tr th:only-of-type {\n",
              "        vertical-align: middle;\n",
              "    }\n",
              "\n",
              "    .dataframe tbody tr th {\n",
              "        vertical-align: top;\n",
              "    }\n",
              "\n",
              "    .dataframe thead th {\n",
              "        text-align: right;\n",
              "    }\n",
              "</style>\n",
              "<table border=\"1\" class=\"dataframe\">\n",
              "  <thead>\n",
              "    <tr style=\"text-align: right;\">\n",
              "      <th></th>\n",
              "      <th>TYPEHUQ</th>\n",
              "      <th>HDD30YR</th>\n",
              "      <th>CDD30YR</th>\n",
              "      <th>BEDROOMS</th>\n",
              "      <th>NCOMBATH</th>\n",
              "      <th>TOTROOMS</th>\n",
              "      <th>CELLAR</th>\n",
              "      <th>GARGHEAT</th>\n",
              "      <th>HEATROOM</th>\n",
              "      <th>ACROOMS</th>\n",
              "      <th>USECENAC</th>\n",
              "      <th>TEMPNITEAC</th>\n",
              "      <th>TOTSQFT</th>\n",
              "      <th>TOTHSQFT</th>\n",
              "      <th>TOTCSQFT</th>\n",
              "      <th>KWH</th>\n",
              "      <th>KWHCOL</th>\n",
              "      <th>KWHRFG</th>\n",
              "      <th>KWHOTH</th>\n",
              "      <th>DOLELCOL</th>\n",
              "      <th>DOLELWTH</th>\n",
              "      <th>DOLELRFG</th>\n",
              "      <th>DOLELOTH</th>\n",
              "      <th>DOLLAREL</th>\n",
              "    </tr>\n",
              "  </thead>\n",
              "  <tbody>\n",
              "    <tr>\n",
              "      <th>0</th>\n",
              "      <td>2</td>\n",
              "      <td>4953</td>\n",
              "      <td>1271</td>\n",
              "      <td>4</td>\n",
              "      <td>1</td>\n",
              "      <td>9</td>\n",
              "      <td>1</td>\n",
              "      <td>0</td>\n",
              "      <td>9</td>\n",
              "      <td>9</td>\n",
              "      <td>3</td>\n",
              "      <td>73</td>\n",
              "      <td>5075</td>\n",
              "      <td>3958</td>\n",
              "      <td>3958</td>\n",
              "      <td>18466</td>\n",
              "      <td>3068.80</td>\n",
              "      <td>1515.50</td>\n",
              "      <td>7726.55</td>\n",
              "      <td>218.54</td>\n",
              "      <td>211.39</td>\n",
              "      <td>107.92</td>\n",
              "      <td>550.22</td>\n",
              "      <td>1315</td>\n",
              "    </tr>\n",
              "    <tr>\n",
              "      <th>1</th>\n",
              "      <td>2</td>\n",
              "      <td>2688</td>\n",
              "      <td>143</td>\n",
              "      <td>3</td>\n",
              "      <td>2</td>\n",
              "      <td>4</td>\n",
              "      <td>0</td>\n",
              "      <td>0</td>\n",
              "      <td>4</td>\n",
              "      <td>4</td>\n",
              "      <td>1</td>\n",
              "      <td>-2</td>\n",
              "      <td>3136</td>\n",
              "      <td>2736</td>\n",
              "      <td>2736</td>\n",
              "      <td>5148</td>\n",
              "      <td>182.00</td>\n",
              "      <td>1310.22</td>\n",
              "      <td>3655.78</td>\n",
              "      <td>16.79</td>\n",
              "      <td>0.00</td>\n",
              "      <td>120.89</td>\n",
              "      <td>337.32</td>\n",
              "      <td>475</td>\n",
              "    </tr>\n",
              "    <tr>\n",
              "      <th>2</th>\n",
              "      <td>5</td>\n",
              "      <td>5741</td>\n",
              "      <td>829</td>\n",
              "      <td>1</td>\n",
              "      <td>1</td>\n",
              "      <td>2</td>\n",
              "      <td>-2</td>\n",
              "      <td>-2</td>\n",
              "      <td>2</td>\n",
              "      <td>-2</td>\n",
              "      <td>-2</td>\n",
              "      <td>-2</td>\n",
              "      <td>528</td>\n",
              "      <td>528</td>\n",
              "      <td>264</td>\n",
              "      <td>2218</td>\n",
              "      <td>184.46</td>\n",
              "      <td>915.66</td>\n",
              "      <td>1117.88</td>\n",
              "      <td>48.90</td>\n",
              "      <td>0.00</td>\n",
              "      <td>242.75</td>\n",
              "      <td>296.35</td>\n",
              "      <td>588</td>\n",
              "    </tr>\n",
              "    <tr>\n",
              "      <th>3</th>\n",
              "      <td>2</td>\n",
              "      <td>5781</td>\n",
              "      <td>868</td>\n",
              "      <td>3</td>\n",
              "      <td>2</td>\n",
              "      <td>7</td>\n",
              "      <td>0</td>\n",
              "      <td>0</td>\n",
              "      <td>7</td>\n",
              "      <td>7</td>\n",
              "      <td>3</td>\n",
              "      <td>68</td>\n",
              "      <td>2023</td>\n",
              "      <td>1623</td>\n",
              "      <td>1623</td>\n",
              "      <td>10015</td>\n",
              "      <td>1063.02</td>\n",
              "      <td>1670.53</td>\n",
              "      <td>5393.91</td>\n",
              "      <td>101.05</td>\n",
              "      <td>179.42</td>\n",
              "      <td>158.80</td>\n",
              "      <td>512.73</td>\n",
              "      <td>952</td>\n",
              "    </tr>\n",
              "    <tr>\n",
              "      <th>4</th>\n",
              "      <td>3</td>\n",
              "      <td>5313</td>\n",
              "      <td>797</td>\n",
              "      <td>2</td>\n",
              "      <td>1</td>\n",
              "      <td>5</td>\n",
              "      <td>1</td>\n",
              "      <td>-2</td>\n",
              "      <td>5</td>\n",
              "      <td>-2</td>\n",
              "      <td>-2</td>\n",
              "      <td>-2</td>\n",
              "      <td>1912</td>\n",
              "      <td>1274</td>\n",
              "      <td>0</td>\n",
              "      <td>2869</td>\n",
              "      <td>0.00</td>\n",
              "      <td>346.47</td>\n",
              "      <td>2522.53</td>\n",
              "      <td>0.00</td>\n",
              "      <td>0.00</td>\n",
              "      <td>85.14</td>\n",
              "      <td>619.86</td>\n",
              "      <td>705</td>\n",
              "    </tr>\n",
              "  </tbody>\n",
              "</table>\n",
              "</div>"
            ],
            "text/plain": [
              "   TYPEHUQ  HDD30YR  CDD30YR  BEDROOMS  ...  DOLELWTH  DOLELRFG  DOLELOTH  DOLLAREL\n",
              "0        2     4953     1271         4  ...    211.39    107.92    550.22      1315\n",
              "1        2     2688      143         3  ...      0.00    120.89    337.32       475\n",
              "2        5     5741      829         1  ...      0.00    242.75    296.35       588\n",
              "3        2     5781      868         3  ...    179.42    158.80    512.73       952\n",
              "4        3     5313      797         2  ...      0.00     85.14    619.86       705\n",
              "\n",
              "[5 rows x 24 columns]"
            ]
          },
          "metadata": {
            "tags": []
          },
          "execution_count": 154
        }
      ]
    },
    {
      "cell_type": "code",
      "metadata": {
        "colab": {
          "base_uri": "https://localhost:8080/",
          "height": 0
        },
        "id": "concrete-maine",
        "outputId": "67c47985-11a3-42c8-ed74-59d7cc027769"
      },
      "source": [
        "df.info()"
      ],
      "id": "concrete-maine",
      "execution_count": 155,
      "outputs": [
        {
          "output_type": "stream",
          "text": [
            "<class 'pandas.core.frame.DataFrame'>\n",
            "RangeIndex: 12083 entries, 0 to 12082\n",
            "Data columns (total 24 columns):\n",
            " #   Column      Non-Null Count  Dtype  \n",
            "---  ------      --------------  -----  \n",
            " 0   TYPEHUQ     12083 non-null  int64  \n",
            " 1   HDD30YR     12083 non-null  int64  \n",
            " 2   CDD30YR     12083 non-null  int64  \n",
            " 3   BEDROOMS    12083 non-null  int64  \n",
            " 4   NCOMBATH    12083 non-null  int64  \n",
            " 5   TOTROOMS    12083 non-null  int64  \n",
            " 6   CELLAR      12083 non-null  int64  \n",
            " 7   GARGHEAT    12083 non-null  int64  \n",
            " 8   HEATROOM    12083 non-null  int64  \n",
            " 9   ACROOMS     12083 non-null  int64  \n",
            " 10  USECENAC    12083 non-null  int64  \n",
            " 11  TEMPNITEAC  12083 non-null  int64  \n",
            " 12  TOTSQFT     12083 non-null  int64  \n",
            " 13  TOTHSQFT    12083 non-null  int64  \n",
            " 14  TOTCSQFT    12083 non-null  int64  \n",
            " 15  KWH         12083 non-null  int64  \n",
            " 16  KWHCOL      12083 non-null  float64\n",
            " 17  KWHRFG      12083 non-null  float64\n",
            " 18  KWHOTH      12083 non-null  float64\n",
            " 19  DOLELCOL    12083 non-null  float64\n",
            " 20  DOLELWTH    12083 non-null  float64\n",
            " 21  DOLELRFG    12083 non-null  float64\n",
            " 22  DOLELOTH    12083 non-null  float64\n",
            " 23  DOLLAREL    12083 non-null  int64  \n",
            "dtypes: float64(7), int64(17)\n",
            "memory usage: 2.2 MB\n"
          ],
          "name": "stdout"
        }
      ]
    },
    {
      "cell_type": "code",
      "metadata": {
        "colab": {
          "base_uri": "https://localhost:8080/",
          "height": 320
        },
        "id": "successful-county",
        "outputId": "05ca09fe-6151-4f68-84cd-c104574313d2"
      },
      "source": [
        "df.describe()"
      ],
      "id": "successful-county",
      "execution_count": 156,
      "outputs": [
        {
          "output_type": "execute_result",
          "data": {
            "text/html": [
              "<div>\n",
              "<style scoped>\n",
              "    .dataframe tbody tr th:only-of-type {\n",
              "        vertical-align: middle;\n",
              "    }\n",
              "\n",
              "    .dataframe tbody tr th {\n",
              "        vertical-align: top;\n",
              "    }\n",
              "\n",
              "    .dataframe thead th {\n",
              "        text-align: right;\n",
              "    }\n",
              "</style>\n",
              "<table border=\"1\" class=\"dataframe\">\n",
              "  <thead>\n",
              "    <tr style=\"text-align: right;\">\n",
              "      <th></th>\n",
              "      <th>TYPEHUQ</th>\n",
              "      <th>HDD30YR</th>\n",
              "      <th>CDD30YR</th>\n",
              "      <th>BEDROOMS</th>\n",
              "      <th>NCOMBATH</th>\n",
              "      <th>TOTROOMS</th>\n",
              "      <th>CELLAR</th>\n",
              "      <th>GARGHEAT</th>\n",
              "      <th>HEATROOM</th>\n",
              "      <th>ACROOMS</th>\n",
              "      <th>USECENAC</th>\n",
              "      <th>TEMPNITEAC</th>\n",
              "      <th>TOTSQFT</th>\n",
              "      <th>TOTHSQFT</th>\n",
              "      <th>TOTCSQFT</th>\n",
              "      <th>KWH</th>\n",
              "      <th>KWHCOL</th>\n",
              "      <th>KWHRFG</th>\n",
              "      <th>KWHOTH</th>\n",
              "      <th>DOLELCOL</th>\n",
              "      <th>DOLELWTH</th>\n",
              "      <th>DOLELRFG</th>\n",
              "      <th>DOLELOTH</th>\n",
              "      <th>DOLLAREL</th>\n",
              "    </tr>\n",
              "  </thead>\n",
              "  <tbody>\n",
              "    <tr>\n",
              "      <th>count</th>\n",
              "      <td>12083.000000</td>\n",
              "      <td>12083.000000</td>\n",
              "      <td>12083.000000</td>\n",
              "      <td>12083.000000</td>\n",
              "      <td>12083.000000</td>\n",
              "      <td>12083.000000</td>\n",
              "      <td>12083.000000</td>\n",
              "      <td>12083.000000</td>\n",
              "      <td>12083.000000</td>\n",
              "      <td>12083.000000</td>\n",
              "      <td>12083.000000</td>\n",
              "      <td>12083.000000</td>\n",
              "      <td>12083.000000</td>\n",
              "      <td>12083.000000</td>\n",
              "      <td>12083.000000</td>\n",
              "      <td>12083.000000</td>\n",
              "      <td>12083.000000</td>\n",
              "      <td>12083.000000</td>\n",
              "      <td>12083.000000</td>\n",
              "      <td>12083.000000</td>\n",
              "      <td>12083.000000</td>\n",
              "      <td>12083.000000</td>\n",
              "      <td>12083.000000</td>\n",
              "      <td>12083.000000</td>\n",
              "    </tr>\n",
              "    <tr>\n",
              "      <th>mean</th>\n",
              "      <td>2.659604</td>\n",
              "      <td>4135.146983</td>\n",
              "      <td>1443.503104</td>\n",
              "      <td>2.773070</td>\n",
              "      <td>1.672101</td>\n",
              "      <td>5.995283</td>\n",
              "      <td>-0.081685</td>\n",
              "      <td>-1.161135</td>\n",
              "      <td>5.351568</td>\n",
              "      <td>2.929902</td>\n",
              "      <td>0.605148</td>\n",
              "      <td>31.106513</td>\n",
              "      <td>2172.352892</td>\n",
              "      <td>1675.956219</td>\n",
              "      <td>1254.239262</td>\n",
              "      <td>11288.159398</td>\n",
              "      <td>1685.269578</td>\n",
              "      <td>1243.170528</td>\n",
              "      <td>6299.519119</td>\n",
              "      <td>202.538365</td>\n",
              "      <td>119.612920</td>\n",
              "      <td>154.142547</td>\n",
              "      <td>767.102709</td>\n",
              "      <td>1351.783911</td>\n",
              "    </tr>\n",
              "    <tr>\n",
              "      <th>std</th>\n",
              "      <td>1.192627</td>\n",
              "      <td>2260.543686</td>\n",
              "      <td>1021.748722</td>\n",
              "      <td>1.217654</td>\n",
              "      <td>0.740713</td>\n",
              "      <td>2.178903</td>\n",
              "      <td>1.065492</td>\n",
              "      <td>1.019641</td>\n",
              "      <td>2.624559</td>\n",
              "      <td>4.230290</td>\n",
              "      <td>2.167944</td>\n",
              "      <td>37.361564</td>\n",
              "      <td>1453.742279</td>\n",
              "      <td>1200.819335</td>\n",
              "      <td>1227.949667</td>\n",
              "      <td>7641.190845</td>\n",
              "      <td>2479.141897</td>\n",
              "      <td>778.547873</td>\n",
              "      <td>4310.587198</td>\n",
              "      <td>309.986663</td>\n",
              "      <td>180.629181</td>\n",
              "      <td>106.279516</td>\n",
              "      <td>551.779542</td>\n",
              "      <td>905.031257</td>\n",
              "    </tr>\n",
              "    <tr>\n",
              "      <th>min</th>\n",
              "      <td>1.000000</td>\n",
              "      <td>0.000000</td>\n",
              "      <td>0.000000</td>\n",
              "      <td>-2.000000</td>\n",
              "      <td>0.000000</td>\n",
              "      <td>1.000000</td>\n",
              "      <td>-2.000000</td>\n",
              "      <td>-2.000000</td>\n",
              "      <td>-2.000000</td>\n",
              "      <td>-2.000000</td>\n",
              "      <td>-2.000000</td>\n",
              "      <td>-2.000000</td>\n",
              "      <td>100.000000</td>\n",
              "      <td>0.000000</td>\n",
              "      <td>0.000000</td>\n",
              "      <td>17.000000</td>\n",
              "      <td>0.000000</td>\n",
              "      <td>0.000000</td>\n",
              "      <td>9.590000</td>\n",
              "      <td>0.000000</td>\n",
              "      <td>0.000000</td>\n",
              "      <td>0.000000</td>\n",
              "      <td>0.000000</td>\n",
              "      <td>0.000000</td>\n",
              "    </tr>\n",
              "    <tr>\n",
              "      <th>25%</th>\n",
              "      <td>2.000000</td>\n",
              "      <td>2224.000000</td>\n",
              "      <td>712.000000</td>\n",
              "      <td>2.000000</td>\n",
              "      <td>1.000000</td>\n",
              "      <td>5.000000</td>\n",
              "      <td>0.000000</td>\n",
              "      <td>-2.000000</td>\n",
              "      <td>4.000000</td>\n",
              "      <td>-2.000000</td>\n",
              "      <td>-2.000000</td>\n",
              "      <td>-2.000000</td>\n",
              "      <td>1087.500000</td>\n",
              "      <td>888.000000</td>\n",
              "      <td>264.000000</td>\n",
              "      <td>5837.000000</td>\n",
              "      <td>142.110000</td>\n",
              "      <td>722.945000</td>\n",
              "      <td>3208.615000</td>\n",
              "      <td>18.325000</td>\n",
              "      <td>0.000000</td>\n",
              "      <td>86.340000</td>\n",
              "      <td>396.225000</td>\n",
              "      <td>739.000000</td>\n",
              "    </tr>\n",
              "    <tr>\n",
              "      <th>50%</th>\n",
              "      <td>2.000000</td>\n",
              "      <td>4502.000000</td>\n",
              "      <td>1179.000000</td>\n",
              "      <td>3.000000</td>\n",
              "      <td>2.000000</td>\n",
              "      <td>6.000000</td>\n",
              "      <td>0.000000</td>\n",
              "      <td>-2.000000</td>\n",
              "      <td>5.000000</td>\n",
              "      <td>4.000000</td>\n",
              "      <td>1.000000</td>\n",
              "      <td>-2.000000</td>\n",
              "      <td>1863.000000</td>\n",
              "      <td>1400.000000</td>\n",
              "      <td>1025.000000</td>\n",
              "      <td>9623.000000</td>\n",
              "      <td>751.130000</td>\n",
              "      <td>1046.200000</td>\n",
              "      <td>5429.250000</td>\n",
              "      <td>89.760000</td>\n",
              "      <td>0.000000</td>\n",
              "      <td>126.990000</td>\n",
              "      <td>649.250000</td>\n",
              "      <td>1151.000000</td>\n",
              "    </tr>\n",
              "    <tr>\n",
              "      <th>75%</th>\n",
              "      <td>3.000000</td>\n",
              "      <td>5854.000000</td>\n",
              "      <td>1842.500000</td>\n",
              "      <td>3.000000</td>\n",
              "      <td>2.000000</td>\n",
              "      <td>7.000000</td>\n",
              "      <td>1.000000</td>\n",
              "      <td>0.000000</td>\n",
              "      <td>7.000000</td>\n",
              "      <td>6.000000</td>\n",
              "      <td>3.000000</td>\n",
              "      <td>72.000000</td>\n",
              "      <td>2816.000000</td>\n",
              "      <td>2160.000000</td>\n",
              "      <td>1830.000000</td>\n",
              "      <td>14765.000000</td>\n",
              "      <td>2290.780000</td>\n",
              "      <td>1561.660000</td>\n",
              "      <td>8317.445000</td>\n",
              "      <td>263.285000</td>\n",
              "      <td>225.525000</td>\n",
              "      <td>192.440000</td>\n",
              "      <td>990.620000</td>\n",
              "      <td>1732.000000</td>\n",
              "    </tr>\n",
              "    <tr>\n",
              "      <th>max</th>\n",
              "      <td>5.000000</td>\n",
              "      <td>13346.000000</td>\n",
              "      <td>5357.000000</td>\n",
              "      <td>13.000000</td>\n",
              "      <td>8.000000</td>\n",
              "      <td>23.000000</td>\n",
              "      <td>1.000000</td>\n",
              "      <td>1.000000</td>\n",
              "      <td>23.000000</td>\n",
              "      <td>23.000000</td>\n",
              "      <td>3.000000</td>\n",
              "      <td>96.000000</td>\n",
              "      <td>16122.000000</td>\n",
              "      <td>13776.000000</td>\n",
              "      <td>13776.000000</td>\n",
              "      <td>150254.000000</td>\n",
              "      <td>60995.430000</td>\n",
              "      <td>11069.030000</td>\n",
              "      <td>65056.750000</td>\n",
              "      <td>7729.270000</td>\n",
              "      <td>2155.260000</td>\n",
              "      <td>2490.050000</td>\n",
              "      <td>9213.060000</td>\n",
              "      <td>19040.000000</td>\n",
              "    </tr>\n",
              "  </tbody>\n",
              "</table>\n",
              "</div>"
            ],
            "text/plain": [
              "            TYPEHUQ       HDD30YR  ...      DOLELOTH      DOLLAREL\n",
              "count  12083.000000  12083.000000  ...  12083.000000  12083.000000\n",
              "mean       2.659604   4135.146983  ...    767.102709   1351.783911\n",
              "std        1.192627   2260.543686  ...    551.779542    905.031257\n",
              "min        1.000000      0.000000  ...      0.000000      0.000000\n",
              "25%        2.000000   2224.000000  ...    396.225000    739.000000\n",
              "50%        2.000000   4502.000000  ...    649.250000   1151.000000\n",
              "75%        3.000000   5854.000000  ...    990.620000   1732.000000\n",
              "max        5.000000  13346.000000  ...   9213.060000  19040.000000\n",
              "\n",
              "[8 rows x 24 columns]"
            ]
          },
          "metadata": {
            "tags": []
          },
          "execution_count": 156
        }
      ]
    },
    {
      "cell_type": "code",
      "metadata": {
        "id": "unnecessary-yorkshire"
      },
      "source": [
        "#from pandas_profiling import ProfileReport "
      ],
      "id": "unnecessary-yorkshire",
      "execution_count": 157,
      "outputs": []
    },
    {
      "cell_type": "code",
      "metadata": {
        "id": "demographic-premium"
      },
      "source": [
        "#profile = ProfileReport(df, title=\"Pandas Profiling Report\", explorative=True)\n",
        "#profile"
      ],
      "id": "demographic-premium",
      "execution_count": 158,
      "outputs": []
    },
    {
      "cell_type": "code",
      "metadata": {
        "id": "demographic-basement"
      },
      "source": [
        "X = df.drop('DOLLAREL',axis=1)\n",
        "y = df['DOLLAREL']"
      ],
      "id": "demographic-basement",
      "execution_count": 159,
      "outputs": []
    },
    {
      "cell_type": "code",
      "metadata": {
        "colab": {
          "base_uri": "https://localhost:8080/",
          "height": 226
        },
        "id": "polar-invitation",
        "outputId": "8a9ba331-d563-4cae-9ce1-a95cb9be39be"
      },
      "source": [
        "X.head()"
      ],
      "id": "polar-invitation",
      "execution_count": 160,
      "outputs": [
        {
          "output_type": "execute_result",
          "data": {
            "text/html": [
              "<div>\n",
              "<style scoped>\n",
              "    .dataframe tbody tr th:only-of-type {\n",
              "        vertical-align: middle;\n",
              "    }\n",
              "\n",
              "    .dataframe tbody tr th {\n",
              "        vertical-align: top;\n",
              "    }\n",
              "\n",
              "    .dataframe thead th {\n",
              "        text-align: right;\n",
              "    }\n",
              "</style>\n",
              "<table border=\"1\" class=\"dataframe\">\n",
              "  <thead>\n",
              "    <tr style=\"text-align: right;\">\n",
              "      <th></th>\n",
              "      <th>TYPEHUQ</th>\n",
              "      <th>HDD30YR</th>\n",
              "      <th>CDD30YR</th>\n",
              "      <th>BEDROOMS</th>\n",
              "      <th>NCOMBATH</th>\n",
              "      <th>TOTROOMS</th>\n",
              "      <th>CELLAR</th>\n",
              "      <th>GARGHEAT</th>\n",
              "      <th>HEATROOM</th>\n",
              "      <th>ACROOMS</th>\n",
              "      <th>USECENAC</th>\n",
              "      <th>TEMPNITEAC</th>\n",
              "      <th>TOTSQFT</th>\n",
              "      <th>TOTHSQFT</th>\n",
              "      <th>TOTCSQFT</th>\n",
              "      <th>KWH</th>\n",
              "      <th>KWHCOL</th>\n",
              "      <th>KWHRFG</th>\n",
              "      <th>KWHOTH</th>\n",
              "      <th>DOLELCOL</th>\n",
              "      <th>DOLELWTH</th>\n",
              "      <th>DOLELRFG</th>\n",
              "      <th>DOLELOTH</th>\n",
              "    </tr>\n",
              "  </thead>\n",
              "  <tbody>\n",
              "    <tr>\n",
              "      <th>0</th>\n",
              "      <td>2</td>\n",
              "      <td>4953</td>\n",
              "      <td>1271</td>\n",
              "      <td>4</td>\n",
              "      <td>1</td>\n",
              "      <td>9</td>\n",
              "      <td>1</td>\n",
              "      <td>0</td>\n",
              "      <td>9</td>\n",
              "      <td>9</td>\n",
              "      <td>3</td>\n",
              "      <td>73</td>\n",
              "      <td>5075</td>\n",
              "      <td>3958</td>\n",
              "      <td>3958</td>\n",
              "      <td>18466</td>\n",
              "      <td>3068.80</td>\n",
              "      <td>1515.50</td>\n",
              "      <td>7726.55</td>\n",
              "      <td>218.54</td>\n",
              "      <td>211.39</td>\n",
              "      <td>107.92</td>\n",
              "      <td>550.22</td>\n",
              "    </tr>\n",
              "    <tr>\n",
              "      <th>1</th>\n",
              "      <td>2</td>\n",
              "      <td>2688</td>\n",
              "      <td>143</td>\n",
              "      <td>3</td>\n",
              "      <td>2</td>\n",
              "      <td>4</td>\n",
              "      <td>0</td>\n",
              "      <td>0</td>\n",
              "      <td>4</td>\n",
              "      <td>4</td>\n",
              "      <td>1</td>\n",
              "      <td>-2</td>\n",
              "      <td>3136</td>\n",
              "      <td>2736</td>\n",
              "      <td>2736</td>\n",
              "      <td>5148</td>\n",
              "      <td>182.00</td>\n",
              "      <td>1310.22</td>\n",
              "      <td>3655.78</td>\n",
              "      <td>16.79</td>\n",
              "      <td>0.00</td>\n",
              "      <td>120.89</td>\n",
              "      <td>337.32</td>\n",
              "    </tr>\n",
              "    <tr>\n",
              "      <th>2</th>\n",
              "      <td>5</td>\n",
              "      <td>5741</td>\n",
              "      <td>829</td>\n",
              "      <td>1</td>\n",
              "      <td>1</td>\n",
              "      <td>2</td>\n",
              "      <td>-2</td>\n",
              "      <td>-2</td>\n",
              "      <td>2</td>\n",
              "      <td>-2</td>\n",
              "      <td>-2</td>\n",
              "      <td>-2</td>\n",
              "      <td>528</td>\n",
              "      <td>528</td>\n",
              "      <td>264</td>\n",
              "      <td>2218</td>\n",
              "      <td>184.46</td>\n",
              "      <td>915.66</td>\n",
              "      <td>1117.88</td>\n",
              "      <td>48.90</td>\n",
              "      <td>0.00</td>\n",
              "      <td>242.75</td>\n",
              "      <td>296.35</td>\n",
              "    </tr>\n",
              "    <tr>\n",
              "      <th>3</th>\n",
              "      <td>2</td>\n",
              "      <td>5781</td>\n",
              "      <td>868</td>\n",
              "      <td>3</td>\n",
              "      <td>2</td>\n",
              "      <td>7</td>\n",
              "      <td>0</td>\n",
              "      <td>0</td>\n",
              "      <td>7</td>\n",
              "      <td>7</td>\n",
              "      <td>3</td>\n",
              "      <td>68</td>\n",
              "      <td>2023</td>\n",
              "      <td>1623</td>\n",
              "      <td>1623</td>\n",
              "      <td>10015</td>\n",
              "      <td>1063.02</td>\n",
              "      <td>1670.53</td>\n",
              "      <td>5393.91</td>\n",
              "      <td>101.05</td>\n",
              "      <td>179.42</td>\n",
              "      <td>158.80</td>\n",
              "      <td>512.73</td>\n",
              "    </tr>\n",
              "    <tr>\n",
              "      <th>4</th>\n",
              "      <td>3</td>\n",
              "      <td>5313</td>\n",
              "      <td>797</td>\n",
              "      <td>2</td>\n",
              "      <td>1</td>\n",
              "      <td>5</td>\n",
              "      <td>1</td>\n",
              "      <td>-2</td>\n",
              "      <td>5</td>\n",
              "      <td>-2</td>\n",
              "      <td>-2</td>\n",
              "      <td>-2</td>\n",
              "      <td>1912</td>\n",
              "      <td>1274</td>\n",
              "      <td>0</td>\n",
              "      <td>2869</td>\n",
              "      <td>0.00</td>\n",
              "      <td>346.47</td>\n",
              "      <td>2522.53</td>\n",
              "      <td>0.00</td>\n",
              "      <td>0.00</td>\n",
              "      <td>85.14</td>\n",
              "      <td>619.86</td>\n",
              "    </tr>\n",
              "  </tbody>\n",
              "</table>\n",
              "</div>"
            ],
            "text/plain": [
              "   TYPEHUQ  HDD30YR  CDD30YR  BEDROOMS  ...  DOLELCOL  DOLELWTH  DOLELRFG  DOLELOTH\n",
              "0        2     4953     1271         4  ...    218.54    211.39    107.92    550.22\n",
              "1        2     2688      143         3  ...     16.79      0.00    120.89    337.32\n",
              "2        5     5741      829         1  ...     48.90      0.00    242.75    296.35\n",
              "3        2     5781      868         3  ...    101.05    179.42    158.80    512.73\n",
              "4        3     5313      797         2  ...      0.00      0.00     85.14    619.86\n",
              "\n",
              "[5 rows x 23 columns]"
            ]
          },
          "metadata": {
            "tags": []
          },
          "execution_count": 160
        }
      ]
    },
    {
      "cell_type": "code",
      "metadata": {
        "colab": {
          "base_uri": "https://localhost:8080/",
          "height": 0
        },
        "id": "another-trout",
        "outputId": "27ac4c18-649a-4f55-8f83-72dbad7e511e"
      },
      "source": [
        "y.head()"
      ],
      "id": "another-trout",
      "execution_count": 161,
      "outputs": [
        {
          "output_type": "execute_result",
          "data": {
            "text/plain": [
              "0    1315\n",
              "1     475\n",
              "2     588\n",
              "3     952\n",
              "4     705\n",
              "Name: DOLLAREL, dtype: int64"
            ]
          },
          "metadata": {
            "tags": []
          },
          "execution_count": 161
        }
      ]
    },
    {
      "cell_type": "code",
      "metadata": {
        "id": "multiple-allergy"
      },
      "source": [
        "X_train,X_val,y_train,y_val = train_test_split(X,y,test_size=0.1,random_state=0)\n",
        "X_train,X_test,y_train,y_test = train_test_split(X_train,y_train,test_size=0.1,random_state=0)"
      ],
      "id": "multiple-allergy",
      "execution_count": 162,
      "outputs": []
    },
    {
      "cell_type": "code",
      "metadata": {
        "colab": {
          "base_uri": "https://localhost:8080/",
          "height": 0
        },
        "id": "bFqiwV9ojDB8",
        "outputId": "0af2a8ce-6990-4f8b-d8d4-3aa326ab829f"
      },
      "source": [
        "X_train.shape,X_val.shape,X_test.shape"
      ],
      "id": "bFqiwV9ojDB8",
      "execution_count": 163,
      "outputs": [
        {
          "output_type": "execute_result",
          "data": {
            "text/plain": [
              "((9786, 23), (1209, 23), (1088, 23))"
            ]
          },
          "metadata": {
            "tags": []
          },
          "execution_count": 163
        }
      ]
    },
    {
      "cell_type": "code",
      "metadata": {
        "id": "4Ia_Fao8WSdo"
      },
      "source": [
        "def model_evaluate(y_train, y_test, y_pred, y_pred_train):\n",
        "    metrics = {}\n",
        "    #RMSE Test\n",
        "    rmse_test = np.sqrt(mean_squared_error(y_test, y_pred))\n",
        "    #RMSE Train\n",
        "    rmse_train = np.sqrt(mean_squared_error(y_train, y_pred_train))\n",
        "    \n",
        "    #MAE Test\n",
        "    mae_test = mean_absolute_error(y_test, y_pred)\n",
        "    #MAE Train\n",
        "    mae_train = mean_absolute_error(y_train, y_pred_train)\n",
        "    \n",
        "    #R2 score\n",
        "    r2_test = r2_score(y_test,y_pred)\n",
        "    r2_train = r2_score(y_train,y_pred_train)\n",
        "\n",
        "    metrics = {\n",
        "              'RMSE Test': rmse_test,\n",
        "              'RMSE Train': rmse_train,\n",
        "               'R2 Test' : r2_test,\n",
        "               'R2 Train' : r2_train,\n",
        "               'MAE Test': mae_test,\n",
        "               'MAE Train' : mae_train\n",
        "               }\n",
        "\n",
        "    return metrics"
      ],
      "id": "4Ia_Fao8WSdo",
      "execution_count": 164,
      "outputs": []
    },
    {
      "cell_type": "markdown",
      "metadata": {
        "id": "V5ztIwKlJOtG"
      },
      "source": [
        "### Random Forest "
      ],
      "id": "V5ztIwKlJOtG"
    },
    {
      "cell_type": "code",
      "metadata": {
        "id": "vanilla-criterion"
      },
      "source": [
        "rf = RandomForestRegressor(random_state=42)\n",
        "rf.fit(X_train,y_train)\n",
        "y_pred_train=rf.predict(X_train)\n",
        "y_pred=rf.predict(X_test)"
      ],
      "id": "vanilla-criterion",
      "execution_count": 55,
      "outputs": []
    },
    {
      "cell_type": "code",
      "metadata": {
        "colab": {
          "base_uri": "https://localhost:8080/",
          "height": 0
        },
        "id": "NHdIgx1YW-K0",
        "outputId": "8328aea6-167e-4db2-8f58-7e0e62f40acf"
      },
      "source": [
        "model_evaluate(y_train,y_test,y_pred,y_pred_train)"
      ],
      "id": "NHdIgx1YW-K0",
      "execution_count": 56,
      "outputs": [
        {
          "output_type": "execute_result",
          "data": {
            "text/plain": [
              "{'MAE Test': 78.22181517241378,\n",
              " 'MAE Train': 29.212682667297237,\n",
              " 'R2 Test': 0.9764695361966228,\n",
              " 'R2 Train': 0.9947817082180148,\n",
              " 'RMSE Test': 131.7373797562722,\n",
              " 'RMSE Train': 66.74656608894126}"
            ]
          },
          "metadata": {
            "tags": []
          },
          "execution_count": 56
        }
      ]
    },
    {
      "cell_type": "code",
      "metadata": {
        "colab": {
          "base_uri": "https://localhost:8080/",
          "height": 0
        },
        "id": "1dFCl8bpKjto",
        "outputId": "d598d27d-7a8c-4ace-9566-766bc89aab30"
      },
      "source": [
        "y.value_counts(sort = False ,ascending=True)"
      ],
      "id": "1dFCl8bpKjto",
      "execution_count": 57,
      "outputs": [
        {
          "output_type": "execute_result",
          "data": {
            "text/plain": [
              "0       2\n",
              "2049    5\n",
              "2057    3\n",
              "2065    1\n",
              "2073    2\n",
              "       ..\n",
              "2007    2\n",
              "2023    3\n",
              "4078    1\n",
              "2031    1\n",
              "2039    4\n",
              "Name: DOLLAREL, Length: 3118, dtype: int64"
            ]
          },
          "metadata": {
            "tags": []
          },
          "execution_count": 57
        }
      ]
    },
    {
      "cell_type": "code",
      "metadata": {
        "id": "pointed-exchange"
      },
      "source": [
        "cv_method = StratifiedKFold(n_splits=10,shuffle=False,random_state=42)"
      ],
      "id": "pointed-exchange",
      "execution_count": null,
      "outputs": []
    },
    {
      "cell_type": "code",
      "metadata": {
        "id": "seventh-raising"
      },
      "source": [
        "params_RF = {\"min_samples_split\": [2, 6, 20],\n",
        "             \"min_samples_leaf\": [4,8,12],\n",
        "             \"n_estimators\" :[100,150],\n",
        "             \"max_features\" : ['auto', 'sqrt', 'log2'],\n",
        "             'max_depth' : [x for x in range(8,20)]             \n",
        "            }"
      ],
      "id": "seventh-raising",
      "execution_count": null,
      "outputs": []
    },
    {
      "cell_type": "code",
      "metadata": {
        "id": "healthy-rebate"
      },
      "source": [
        "GridSearchCV_RF = GridSearchCV(estimator=RandomForestRegressor(), \n",
        "                                param_grid=params_RF, \n",
        "                                cv=cv_method,\n",
        "                                n_jobs=2,\n",
        "                                )"
      ],
      "id": "healthy-rebate",
      "execution_count": null,
      "outputs": []
    },
    {
      "cell_type": "code",
      "metadata": {
        "id": "olive-fountain"
      },
      "source": [
        "GridSearchCV_RF.fit(X_train, y_train)"
      ],
      "id": "olive-fountain",
      "execution_count": null,
      "outputs": []
    },
    {
      "cell_type": "code",
      "metadata": {
        "id": "paperback-glossary"
      },
      "source": [
        "best_params_RF = GridSearchCV_RF.best_params_\n",
        "best_params_RF\n",
        "best_score_RF = GridSearchCV_RF.best_score_\n",
        "best_score_RF"
      ],
      "id": "paperback-glossary",
      "execution_count": null,
      "outputs": []
    },
    {
      "cell_type": "code",
      "metadata": {
        "id": "opening-darwin"
      },
      "source": [
        "rf = RandomForestRegressor(random_state=42)\n",
        "rf.fit(X_train,y_train)\n",
        "y_pred_train=rf.predict(X_train)\n",
        "y_pred=rf.predict(X_test)"
      ],
      "id": "opening-darwin",
      "execution_count": null,
      "outputs": []
    },
    {
      "cell_type": "code",
      "metadata": {
        "id": "mCUnYya6Qm_S"
      },
      "source": [
        "model_evaluate(y_train,y_test,y_pred,y_pred_train)"
      ],
      "id": "mCUnYya6Qm_S",
      "execution_count": null,
      "outputs": []
    },
    {
      "cell_type": "markdown",
      "metadata": {
        "id": "UT7vyiHdF5FB"
      },
      "source": [
        "### XGboost"
      ],
      "id": "UT7vyiHdF5FB"
    },
    {
      "cell_type": "code",
      "metadata": {
        "colab": {
          "base_uri": "https://localhost:8080/",
          "height": 0
        },
        "id": "p5iH1qfJF89o",
        "outputId": "bf2fc0cd-786a-4276-98ce-4c041d64ceb9"
      },
      "source": [
        "xgb = XGBRegressor(tree_method='gpu_hist')\n",
        "xgb.fit(X_train,y_train)\n",
        "y_pred_train = xgb.predict(X_train)\n",
        "y_pred=xgb.predict(X_test)"
      ],
      "id": "p5iH1qfJF89o",
      "execution_count": 165,
      "outputs": [
        {
          "output_type": "stream",
          "text": [
            "[11:27:53] WARNING: /workspace/src/objective/regression_obj.cu:152: reg:linear is now deprecated in favor of reg:squarederror.\n"
          ],
          "name": "stdout"
        }
      ]
    },
    {
      "cell_type": "code",
      "metadata": {
        "colab": {
          "base_uri": "https://localhost:8080/",
          "height": 265
        },
        "id": "wr-ogg94TNwY",
        "outputId": "027a0339-48f5-42cd-dfde-f8a1fb5fdd33"
      },
      "source": [
        "feature_important = xgb.get_booster().get_score(importance_type='weight')\n",
        "keys = list(feature_important.keys())\n",
        "values = list(feature_important.values())\n",
        "\n",
        "data = pd.DataFrame(data=values, index=keys, columns=[\"score\"]).sort_values(by = \"score\", ascending=True)\n",
        "_=data.plot(kind='barh')\n"
      ],
      "id": "wr-ogg94TNwY",
      "execution_count": 166,
      "outputs": [
        {
          "output_type": "display_data",
          "data": {
            "image/png": "[encoded data removed]",
            "text/plain": [
              "<Figure size 432x288 with 1 Axes>"
            ]
          },
          "metadata": {
            "tags": [],
            "needs_background": "light"
          }
        }
      ]
    },
    {
      "cell_type": "code",
      "metadata": {
        "colab": {
          "base_uri": "https://localhost:8080/",
          "height": 0
        },
        "id": "5TW7RkYsa1ju",
        "outputId": "96f5a945-0f26-445a-81fe-792c2ec8b108"
      },
      "source": [
        "model_evaluate(y_train,y_test,y_pred,y_pred_train)"
      ],
      "id": "5TW7RkYsa1ju",
      "execution_count": 167,
      "outputs": [
        {
          "output_type": "execute_result",
          "data": {
            "text/plain": [
              "{'MAE Test': 95.81721026757184,\n",
              " 'MAE Train': 76.91802920979418,\n",
              " 'R2 Test': 0.9597651125402804,\n",
              " 'R2 Train': 0.9834435522920235,\n",
              " 'RMSE Test': 198.3972461339301,\n",
              " 'RMSE Train': 116.13637701068679}"
            ]
          },
          "metadata": {
            "tags": []
          },
          "execution_count": 167
        }
      ]
    },
    {
      "cell_type": "code",
      "metadata": {
        "id": "XcWKb-xsa9hx"
      },
      "source": [
        "import pickle\n",
        "filename = 'xgb.pkl'\n",
        "pickle.dump(xgb, open(filename, 'wb'))"
      ],
      "id": "XcWKb-xsa9hx",
      "execution_count": 168,
      "outputs": []
    },
    {
      "cell_type": "code",
      "metadata": {
        "id": "NcWYMTGPeFoU"
      },
      "source": [
        "# load the model from disk\n",
        "loaded_model = pickle.load(open('/content/drive/MyDrive/Electricity_bill_prediction  /rf.pkl', 'rb'))\n",
        "result = loaded_model.score(X_test, y_test)\n",
        "print(result)"
      ],
      "id": "NcWYMTGPeFoU",
      "execution_count": 74,
      "outputs": []
    },
    {
      "cell_type": "markdown",
      "metadata": {
        "id": "MjfASBaziZI8"
      },
      "source": [
        "###XGBoost+Optuna"
      ],
      "id": "MjfASBaziZI8"
    },
    {
      "cell_type": "code",
      "metadata": {
        "id": "ChdpEn6_h2tq"
      },
      "source": [
        "dtrain = xgboost.DMatrix(X_train, label=y_train)\n",
        "dval = xgboost.DMatrix(X_val, label=y_val)\n",
        "dtest = xgboost.DMatrix(X_test, label=y_test)"
      ],
      "id": "ChdpEn6_h2tq",
      "execution_count": 170,
      "outputs": []
    },
    {
      "cell_type": "code",
      "metadata": {
        "id": "S8p1KeduWMVU"
      },
      "source": [
        "def get_model_rmse(params):\n",
        "    model = xgboost.train(params, dtrain, num_boost_round=100, evals=[(dval, 'eval')], early_stopping_rounds=10, verbose_eval=0)\n",
        "    results = model.eval(dval)\n",
        "    rmse = np.float(re.search(r'[\\d.]+$', results).group(0))\n",
        "    return rmse"
      ],
      "id": "S8p1KeduWMVU",
      "execution_count": 171,
      "outputs": []
    },
    {
      "cell_type": "code",
      "metadata": {
        "id": "N7nqbVPekeS0"
      },
      "source": [
        "def objective(trial):\n",
        "    learning_rate = trial.suggest_loguniform('learning_rate', 0.00001, 10.0)\n",
        "    max_depth = trial.suggest_int('max_depth', 4, 8)\n",
        "    l1_reg = trial.suggest_loguniform('l1_reg', 0.00001, 10.0)\n",
        "    l2_reg = trial.suggest_loguniform('l2_reg', 0.00001, 10.0)\n",
        "    \n",
        "    params = {'learning_rate': learning_rate, 'max_depth': max_depth, 'alpha': l1_reg, 'lambda': l2_reg}\n",
        "    \n",
        "    return get_model_rmse(params)"
      ],
      "id": "N7nqbVPekeS0",
      "execution_count": 172,
      "outputs": []
    },
    {
      "cell_type": "code",
      "metadata": {
        "colab": {
          "base_uri": "https://localhost:8080/",
          "height": 1000,
          "referenced_widgets": [
            "83a5b92fe1ff44aa834e136351916d20",
            "cb4cb41b42584c92b1f2c3a84485e3a6",
            "8184ec2b01cf4b11808ddb0394863f73",
            "24f810d60d2f4e5cb15b04b6cbb20343",
            "afa270b4114542bba805b1e685dc8bc1",
            "be20b79591ad489eabb8ebdb3a5a9732",
            "cd9d75fa8df241f5958863126dfabe69",
            "f2581bb3a287401e94bdcbfd110b1a67"
          ]
        },
        "id": "8BCdcrvokfRw",
        "outputId": "6ca78d95-3a03-4325-9bc4-023fd9c62d53"
      },
      "source": [
        "study = optuna.create_study()\n",
        "study.optimize(objective, n_trials=100, show_progress_bar=True)"
      ],
      "id": "8BCdcrvokfRw",
      "execution_count": 173,
      "outputs": [
        {
          "output_type": "stream",
          "text": [
            "\u001b[32m[I 2021-06-23 11:28:51,025]\u001b[0m A new study created in memory with name: no-name-a8e77944-bd86-4583-912e-ea0a9496dd88\u001b[0m\n"
          ],
          "name": "stderr"
        },
        {
          "output_type": "display_data",
          "data": {
            "application/vnd.jupyter.widget-view+json": {
              "model_id": "83a5b92fe1ff44aa834e136351916d20",
              "version_minor": 0,
              "version_major": 2
            },
            "text/plain": [
              "HBox(children=(FloatProgress(value=0.0), HTML(value='')))"
            ]
          },
          "metadata": {
            "tags": []
          }
        },
        {
          "output_type": "stream",
          "text": [
            "\u001b[32m[I 2021-06-23 11:28:52,619]\u001b[0m Trial 0 finished with value: 103.472572 and parameters: {'learning_rate': 0.3201489426758206, 'max_depth': 5, 'l1_reg': 0.20569759293053336, 'l2_reg': 1.717873828065727}. Best is trial 0 with value: 103.472572.\u001b[0m\n",
            "\u001b[32m[I 2021-06-23 11:28:52,847]\u001b[0m Trial 1 finished with value: 40941648.0 and parameters: {'learning_rate': 3.5647910638435483, 'max_depth': 8, 'l1_reg': 0.00014241576489534827, 'l2_reg': 5.599983808377355}. Best is trial 0 with value: 103.472572.\u001b[0m\n",
            "\u001b[32m[I 2021-06-23 11:28:53,970]\u001b[0m Trial 2 finished with value: 126.092209 and parameters: {'learning_rate': 0.10368459345742133, 'max_depth': 4, 'l1_reg': 0.01631283802734638, 'l2_reg': 2.6436628681856975}. Best is trial 0 with value: 103.472572.\u001b[0m\n",
            "\u001b[32m[I 2021-06-23 11:28:55,681]\u001b[0m Trial 3 finished with value: 1357.571533 and parameters: {'learning_rate': 0.0017180200585062123, 'max_depth': 6, 'l1_reg': 0.0032450138311055613, 'l2_reg': 3.942560601046058}. Best is trial 0 with value: 103.472572.\u001b[0m\n",
            "\u001b[32m[I 2021-06-23 11:28:56,860]\u001b[0m Trial 4 finished with value: 544.842773 and parameters: {'learning_rate': 0.01147726365876109, 'max_depth': 4, 'l1_reg': 0.0072012130005293905, 'l2_reg': 0.00014802058611057897}. Best is trial 0 with value: 103.472572.\u001b[0m\n",
            "\u001b[32m[I 2021-06-23 11:28:58,002]\u001b[0m Trial 5 finished with value: 402.14502 and parameters: {'learning_rate': 0.015045076798540268, 'max_depth': 4, 'l1_reg': 8.44832192206913, 'l2_reg': 0.001527451417844539}. Best is trial 0 with value: 103.472572.\u001b[0m\n",
            "\u001b[32m[I 2021-06-23 11:29:00,435]\u001b[0m Trial 6 finished with value: 1217.483643 and parameters: {'learning_rate': 0.0027505103918528304, 'max_depth': 8, 'l1_reg': 2.3371619758758223e-05, 'l2_reg': 0.0009935807617512415}. Best is trial 0 with value: 103.472572.\u001b[0m\n",
            "\u001b[32m[I 2021-06-23 11:29:00,881]\u001b[0m Trial 7 finished with value: 253.421631 and parameters: {'learning_rate': 1.1948731655572868, 'max_depth': 8, 'l1_reg': 0.02022463875014612, 'l2_reg': 0.003409241869403338}. Best is trial 0 with value: 103.472572.\u001b[0m\n",
            "\u001b[32m[I 2021-06-23 11:29:03,177]\u001b[0m Trial 8 finished with value: 109.060921 and parameters: {'learning_rate': 0.11471565161210122, 'max_depth': 7, 'l1_reg': 0.00029802752437719485, 'l2_reg': 0.001250517407238134}. Best is trial 0 with value: 103.472572.\u001b[0m\n",
            "\u001b[32m[I 2021-06-23 11:29:05,341]\u001b[0m Trial 9 finished with value: 109.602089 and parameters: {'learning_rate': 0.054046519993376556, 'max_depth': 7, 'l1_reg': 0.15331168153824493, 'l2_reg': 0.0008279346640046054}. Best is trial 0 with value: 103.472572.\u001b[0m\n",
            "\u001b[32m[I 2021-06-23 11:29:06,757]\u001b[0m Trial 10 finished with value: 1599.247192 and parameters: {'learning_rate': 2.4714373518844144e-05, 'max_depth': 5, 'l1_reg': 4.942598035795935, 'l2_reg': 0.17281929848150027}. Best is trial 0 with value: 103.472572.\u001b[0m\n",
            "\u001b[32m[I 2021-06-23 11:29:08,652]\u001b[0m Trial 11 finished with value: 141.178955 and parameters: {'learning_rate': 0.3794667473499146, 'max_depth': 6, 'l1_reg': 0.40871226845944025, 'l2_reg': 1.6753109281349578e-05}. Best is trial 0 with value: 103.472572.\u001b[0m\n",
            "\u001b[32m[I 2021-06-23 11:29:08,892]\u001b[0m Trial 12 finished with value: 145254137856.0 and parameters: {'learning_rate': 6.3009864500402815, 'max_depth': 7, 'l1_reg': 0.00046645669455750073, 'l2_reg': 0.08476827545996594}. Best is trial 0 with value: 103.472572.\u001b[0m\n",
            "\u001b[32m[I 2021-06-23 11:29:10,427]\u001b[0m Trial 13 finished with value: 104.59053 and parameters: {'learning_rate': 0.3108532189196966, 'max_depth': 5, 'l1_reg': 1.5575344244936995e-05, 'l2_reg': 0.04853692513684319}. Best is trial 0 with value: 103.472572.\u001b[0m\n",
            "\u001b[32m[I 2021-06-23 11:29:11,974]\u001b[0m Trial 14 finished with value: 209.654343 and parameters: {'learning_rate': 0.7018629903390792, 'max_depth': 5, 'l1_reg': 0.7424942412617258, 'l2_reg': 0.23542406459675355}. Best is trial 0 with value: 103.472572.\u001b[0m\n",
            "\u001b[32m[I 2021-06-23 11:29:13,388]\u001b[0m Trial 15 finished with value: 1498.522827 and parameters: {'learning_rate': 0.0006884085849443938, 'max_depth': 5, 'l1_reg': 0.16065537253332843, 'l2_reg': 0.016451553644394257}. Best is trial 0 with value: 103.472572.\u001b[0m\n",
            "\u001b[32m[I 2021-06-23 11:29:13,561]\u001b[0m Trial 16 finished with value: 110206.507812 and parameters: {'learning_rate': 2.4838038958195896, 'max_depth': 5, 'l1_reg': 1.679298530849751e-05, 'l2_reg': 1.103844617252838}. Best is trial 0 with value: 103.472572.\u001b[0m\n",
            "\u001b[32m[I 2021-06-23 11:29:15,493]\u001b[0m Trial 17 finished with value: 110.498375 and parameters: {'learning_rate': 0.2839971824802827, 'max_depth': 6, 'l1_reg': 1.566067159946143, 'l2_reg': 0.023921353682182643}. Best is trial 0 with value: 103.472572.\u001b[0m\n",
            "\u001b[32m[I 2021-06-23 11:29:16,962]\u001b[0m Trial 18 finished with value: 1577.073853 and parameters: {'learning_rate': 0.00016959748882763444, 'max_depth': 5, 'l1_reg': 0.04914747236830033, 'l2_reg': 0.7511300946671634}. Best is trial 0 with value: 103.472572.\u001b[0m\n",
            "\u001b[32m[I 2021-06-23 11:29:17,103]\u001b[0m Trial 19 finished with value: 43049652584448.0 and parameters: {'learning_rate': 9.876926790801514, 'max_depth': 4, 'l1_reg': 0.002214963288105518, 'l2_reg': 0.03581271397894632}. Best is trial 0 with value: 103.472572.\u001b[0m\n",
            "\u001b[32m[I 2021-06-23 11:29:18,548]\u001b[0m Trial 20 finished with value: 209.776627 and parameters: {'learning_rate': 0.024960059050854452, 'max_depth': 5, 'l1_reg': 0.06434893580922577, 'l2_reg': 9.540669695929571}. Best is trial 0 with value: 103.472572.\u001b[0m\n",
            "\u001b[32m[I 2021-06-23 11:29:20,812]\u001b[0m Trial 21 finished with value: 116.14444 and parameters: {'learning_rate': 0.08821111779760488, 'max_depth': 7, 'l1_reg': 9.604393435084043e-05, 'l2_reg': 0.00012299147639856746}. Best is trial 0 with value: 103.472572.\u001b[0m\n",
            "\u001b[32m[I 2021-06-23 11:29:23,182]\u001b[0m Trial 22 finished with value: 100.124359 and parameters: {'learning_rate': 0.1868817642896551, 'max_depth': 7, 'l1_reg': 0.0006199125492077818, 'l2_reg': 0.004894475105102167}. Best is trial 22 with value: 100.124359.\u001b[0m\n",
            "\u001b[32m[I 2021-06-23 11:29:25,139]\u001b[0m Trial 23 finished with value: 115.470901 and parameters: {'learning_rate': 0.2778043007265833, 'max_depth': 6, 'l1_reg': 0.0015738146324174368, 'l2_reg': 0.00644579814750858}. Best is trial 22 with value: 100.124359.\u001b[0m\n",
            "\u001b[32m[I 2021-06-23 11:29:25,447]\u001b[0m Trial 24 finished with value: 301.412201 and parameters: {'learning_rate': 1.5678901484867722, 'max_depth': 6, 'l1_reg': 5.104901785001209e-05, 'l2_reg': 0.35388433420450327}. Best is trial 22 with value: 100.124359.\u001b[0m\n",
            "\u001b[32m[I 2021-06-23 11:29:27,549]\u001b[0m Trial 25 finished with value: 129.929703 and parameters: {'learning_rate': 0.034705287398312586, 'max_depth': 7, 'l1_reg': 0.0008970053858026374, 'l2_reg': 0.05868604059114602}. Best is trial 22 with value: 100.124359.\u001b[0m\n",
            "\u001b[32m[I 2021-06-23 11:29:28,987]\u001b[0m Trial 26 finished with value: 1019.039246 and parameters: {'learning_rate': 0.004633402935015449, 'max_depth': 5, 'l1_reg': 1.4943367880121577e-05, 'l2_reg': 0.007142254385747423}. Best is trial 22 with value: 100.124359.\u001b[0m\n",
            "\u001b[32m[I 2021-06-23 11:29:30,831]\u001b[0m Trial 27 finished with value: 154.442108 and parameters: {'learning_rate': 0.47709348144375247, 'max_depth': 6, 'l1_reg': 0.0060174423163891705, 'l2_reg': 0.00031943413958730033}. Best is trial 22 with value: 100.124359.\u001b[0m\n",
            "\u001b[32m[I 2021-06-23 11:29:32,025]\u001b[0m Trial 28 finished with value: 109.907494 and parameters: {'learning_rate': 0.16066356619341404, 'max_depth': 4, 'l1_reg': 0.0004341228447345592, 'l2_reg': 1.130803270652642}. Best is trial 22 with value: 100.124359.\u001b[0m\n",
            "\u001b[32m[I 2021-06-23 11:29:32,306]\u001b[0m Trial 29 finished with value: 9107651.0 and parameters: {'learning_rate': 3.201038762746711, 'max_depth': 8, 'l1_reg': 9.166223567830828e-05, 'l2_reg': 0.07729632153968347}. Best is trial 22 with value: 100.124359.\u001b[0m\n",
            "\u001b[32m[I 2021-06-23 11:29:32,702]\u001b[0m Trial 30 finished with value: 283.767456 and parameters: {'learning_rate': 1.340934182830897, 'max_depth': 5, 'l1_reg': 2.4747600692837133, 'l2_reg': 0.0035992823647675583}. Best is trial 22 with value: 100.124359.\u001b[0m\n",
            "\u001b[32m[I 2021-06-23 11:29:35,023]\u001b[0m Trial 31 finished with value: 103.182388 and parameters: {'learning_rate': 0.1751062288833145, 'max_depth': 7, 'l1_reg': 0.00025416348561321757, 'l2_reg': 3.823494058098071e-05}. Best is trial 22 with value: 100.124359.\u001b[0m\n",
            "\u001b[32m[I 2021-06-23 11:29:37,332]\u001b[0m Trial 32 finished with value: 104.485916 and parameters: {'learning_rate': 0.1716247553823907, 'max_depth': 7, 'l1_reg': 0.0001928059085862144, 'l2_reg': 7.445505511060666e-05}. Best is trial 22 with value: 100.124359.\u001b[0m\n",
            "\u001b[32m[I 2021-06-23 11:29:39,487]\u001b[0m Trial 33 finished with value: 116.427345 and parameters: {'learning_rate': 0.0486159082365827, 'max_depth': 7, 'l1_reg': 0.00020638988685537702, 'l2_reg': 1.0491261420236576e-05}. Best is trial 22 with value: 100.124359.\u001b[0m\n",
            "\u001b[32m[I 2021-06-23 11:29:42,223]\u001b[0m Trial 34 finished with value: 107.955139 and parameters: {'learning_rate': 0.14026814712923819, 'max_depth': 8, 'l1_reg': 4.916492321105013e-05, 'l2_reg': 3.15036964413157e-05}. Best is trial 22 with value: 100.124359.\u001b[0m\n",
            "\u001b[32m[I 2021-06-23 11:29:44,294]\u001b[0m Trial 35 finished with value: 736.040344 and parameters: {'learning_rate': 0.007850574352212227, 'max_depth': 7, 'l1_reg': 0.0010409139287326887, 'l2_reg': 6.994670468734526e-05}. Best is trial 22 with value: 100.124359.\u001b[0m\n",
            "\u001b[32m[I 2021-06-23 11:29:45,137]\u001b[0m Trial 36 finished with value: 183.385178 and parameters: {'learning_rate': 0.7918395516310471, 'max_depth': 7, 'l1_reg': 0.003828036444339586, 'l2_reg': 4.227297780304938e-05}. Best is trial 22 with value: 100.124359.\u001b[0m\n",
            "\u001b[32m[I 2021-06-23 11:29:47,633]\u001b[0m Trial 37 finished with value: 276.252655 and parameters: {'learning_rate': 0.018250288016873974, 'max_depth': 8, 'l1_reg': 0.016843093772993017, 'l2_reg': 0.0003990982184986868}. Best is trial 22 with value: 100.124359.\u001b[0m\n",
            "\u001b[32m[I 2021-06-23 11:29:49,829]\u001b[0m Trial 38 finished with value: 105.163788 and parameters: {'learning_rate': 0.07337667813429921, 'max_depth': 7, 'l1_reg': 0.00016616621997325826, 'l2_reg': 0.0001706752143101218}. Best is trial 22 with value: 100.124359.\u001b[0m\n",
            "\u001b[32m[I 2021-06-23 11:29:52,544]\u001b[0m Trial 39 finished with value: 114.44352 and parameters: {'learning_rate': 0.20948732004806392, 'max_depth': 8, 'l1_reg': 3.946788998716631e-05, 'l2_reg': 1.0157856477405868e-05}. Best is trial 22 with value: 100.124359.\u001b[0m\n",
            "\u001b[32m[I 2021-06-23 11:29:54,412]\u001b[0m Trial 40 finished with value: 128.405594 and parameters: {'learning_rate': 0.7138899303121239, 'max_depth': 6, 'l1_reg': 0.0007793814045789641, 'l2_reg': 3.809990893049443}. Best is trial 22 with value: 100.124359.\u001b[0m\n",
            "\u001b[32m[I 2021-06-23 11:29:56,690]\u001b[0m Trial 41 finished with value: 117.96917 and parameters: {'learning_rate': 0.12156644399721798, 'max_depth': 7, 'l1_reg': 1.0138993767187363e-05, 'l2_reg': 0.0028644306473019354}. Best is trial 22 with value: 100.124359.\u001b[0m\n",
            "\u001b[32m[I 2021-06-23 11:29:57,878]\u001b[0m Trial 42 finished with value: 116.650299 and parameters: {'learning_rate': 0.4213518953083133, 'max_depth': 4, 'l1_reg': 8.973513171324934e-05, 'l2_reg': 0.0004930636977943972}. Best is trial 22 with value: 100.124359.\u001b[0m\n",
            "\u001b[32m[I 2021-06-23 11:29:59,645]\u001b[0m Trial 43 finished with value: 127.637688 and parameters: {'learning_rate': 0.04109326626398039, 'max_depth': 6, 'l1_reg': 0.0004232069823218569, 'l2_reg': 2.8245843501019332e-05}. Best is trial 22 with value: 100.124359.\u001b[0m\n",
            "\u001b[32m[I 2021-06-23 11:29:59,865]\u001b[0m Trial 44 finished with value: 10867408896.0 and parameters: {'learning_rate': 5.267327164197428, 'max_depth': 7, 'l1_reg': 3.3220429112909814e-05, 'l2_reg': 8.921726350259398}. Best is trial 22 with value: 100.124359.\u001b[0m\n",
            "\u001b[32m[I 2021-06-23 11:30:00,387]\u001b[0m Trial 45 finished with value: 422.611542 and parameters: {'learning_rate': 1.765180047533229, 'max_depth': 7, 'l1_reg': 0.00023695332629122953, 'l2_reg': 2.2154807242382266}. Best is trial 22 with value: 100.124359.\u001b[0m\n",
            "\u001b[32m[I 2021-06-23 11:30:02,241]\u001b[0m Trial 46 finished with value: 122.681419 and parameters: {'learning_rate': 0.07602527149876297, 'max_depth': 6, 'l1_reg': 0.008642656583910344, 'l2_reg': 7.998493621332679e-05}. Best is trial 22 with value: 100.124359.\u001b[0m\n",
            "\u001b[32m[I 2021-06-23 11:30:03,532]\u001b[0m Trial 47 finished with value: 136.460098 and parameters: {'learning_rate': 0.6108552885653733, 'max_depth': 8, 'l1_reg': 1.006420570485099e-05, 'l2_reg': 0.4424115105401531}. Best is trial 22 with value: 100.124359.\u001b[0m\n",
            "\u001b[32m[I 2021-06-23 11:30:05,090]\u001b[0m Trial 48 finished with value: 99.741997 and parameters: {'learning_rate': 0.24398619954133538, 'max_depth': 5, 'l1_reg': 0.02956163366882558, 'l2_reg': 0.1334171633128877}. Best is trial 48 with value: 99.741997.\u001b[0m\n",
            "\u001b[32m[I 2021-06-23 11:30:07,147]\u001b[0m Trial 49 finished with value: 574.469299 and parameters: {'learning_rate': 0.010457161588265053, 'max_depth': 7, 'l1_reg': 0.04246157468823708, 'l2_reg': 0.16380069708893277}. Best is trial 48 with value: 99.741997.\u001b[0m\n",
            "\u001b[32m[I 2021-06-23 11:30:08,348]\u001b[0m Trial 50 finished with value: 108.378326 and parameters: {'learning_rate': 0.1898446458748192, 'max_depth': 4, 'l1_reg': 0.21412936307345032, 'l2_reg': 0.015137335203788696}. Best is trial 48 with value: 99.741997.\u001b[0m\n",
            "\u001b[32m[I 2021-06-23 11:30:09,880]\u001b[0m Trial 51 finished with value: 100.664917 and parameters: {'learning_rate': 0.3388159416305486, 'max_depth': 5, 'l1_reg': 0.09007298477620314, 'l2_reg': 0.12374168319065587}. Best is trial 48 with value: 99.741997.\u001b[0m\n",
            "\u001b[32m[I 2021-06-23 11:30:10,828]\u001b[0m Trial 52 finished with value: 136.223511 and parameters: {'learning_rate': 0.7956817520949153, 'max_depth': 5, 'l1_reg': 0.02666930766540011, 'l2_reg': 0.10365393237279706}. Best is trial 48 with value: 99.741997.\u001b[0m\n",
            "\u001b[32m[I 2021-06-23 11:30:12,363]\u001b[0m Trial 53 finished with value: 106.765503 and parameters: {'learning_rate': 0.2758560769829446, 'max_depth': 5, 'l1_reg': 0.09867479996118063, 'l2_reg': 1.8711192283878229}. Best is trial 48 with value: 99.741997.\u001b[0m\n",
            "\u001b[32m[I 2021-06-23 11:30:13,848]\u001b[0m Trial 54 finished with value: 112.659706 and parameters: {'learning_rate': 0.10333392889210116, 'max_depth': 5, 'l1_reg': 0.4536273582006939, 'l2_reg': 0.5687131290646015}. Best is trial 48 with value: 99.741997.\u001b[0m\n",
            "\u001b[32m[I 2021-06-23 11:30:15,282]\u001b[0m Trial 55 finished with value: 223.91301 and parameters: {'learning_rate': 0.02238561936507976, 'max_depth': 5, 'l1_reg': 0.2952181785718482, 'l2_reg': 0.027531883803929603}. Best is trial 48 with value: 99.741997.\u001b[0m\n",
            "\u001b[32m[I 2021-06-23 11:30:15,543]\u001b[0m Trial 56 finished with value: 381.786804 and parameters: {'learning_rate': 1.2251723688951133, 'max_depth': 6, 'l1_reg': 0.027728762030257797, 'l2_reg': 0.2469598575003054}. Best is trial 48 with value: 99.741997.\u001b[0m\n",
            "\u001b[32m[I 2021-06-23 11:30:17,074]\u001b[0m Trial 57 finished with value: 112.85791 and parameters: {'learning_rate': 0.4089971837298306, 'max_depth': 5, 'l1_reg': 0.09647029080608123, 'l2_reg': 0.1373807523300044}. Best is trial 48 with value: 99.741997.\u001b[0m\n",
            "\u001b[32m[I 2021-06-23 11:30:18,196]\u001b[0m Trial 58 finished with value: 142.175797 and parameters: {'learning_rate': 0.055711710574009886, 'max_depth': 4, 'l1_reg': 0.012326468239977045, 'l2_reg': 6.076002880921433}. Best is trial 48 with value: 99.741997.\u001b[0m\n",
            "\u001b[32m[I 2021-06-23 11:30:20,098]\u001b[0m Trial 59 finished with value: 136.908829 and parameters: {'learning_rate': 0.1816277708942205, 'max_depth': 6, 'l1_reg': 1.0684710955271306, 'l2_reg': 1.956349480113553e-05}. Best is trial 48 with value: 99.741997.\u001b[0m\n",
            "\u001b[32m[I 2021-06-23 11:30:20,341]\u001b[0m Trial 60 finished with value: 39694.832031 and parameters: {'learning_rate': 2.3365681922253234, 'max_depth': 7, 'l1_reg': 0.0033581507277817804, 'l2_reg': 0.0018327748363586426}. Best is trial 48 with value: 99.741997.\u001b[0m\n",
            "\u001b[32m[I 2021-06-23 11:30:21,893]\u001b[0m Trial 61 finished with value: 101.670654 and parameters: {'learning_rate': 0.2585727323272888, 'max_depth': 5, 'l1_reg': 0.06591233794647121, 'l2_reg': 0.04633426153851717}. Best is trial 48 with value: 99.741997.\u001b[0m\n",
            "\u001b[32m[I 2021-06-23 11:30:23,422]\u001b[0m Trial 62 finished with value: 104.969994 and parameters: {'learning_rate': 0.2816102489904019, 'max_depth': 5, 'l1_reg': 0.08773438758892275, 'l2_reg': 0.05434178239606606}. Best is trial 48 with value: 99.741997.\u001b[0m\n",
            "\u001b[32m[I 2021-06-23 11:30:23,850]\u001b[0m Trial 63 finished with value: 188.180008 and parameters: {'learning_rate': 1.0071082808393443, 'max_depth': 5, 'l1_reg': 0.1778670487346376, 'l2_reg': 0.016104246903265174}. Best is trial 48 with value: 99.741997.\u001b[0m\n",
            "\u001b[32m[I 2021-06-23 11:30:25,310]\u001b[0m Trial 64 finished with value: 179.078735 and parameters: {'learning_rate': 0.5149207084620852, 'max_depth': 5, 'l1_reg': 0.03890265904357465, 'l2_reg': 0.2675747712193543}. Best is trial 48 with value: 99.741997.\u001b[0m\n",
            "\u001b[32m[I 2021-06-23 11:30:26,737]\u001b[0m Trial 65 finished with value: 165.019104 and parameters: {'learning_rate': 0.029091751111768857, 'max_depth': 5, 'l1_reg': 0.6313728284706164, 'l2_reg': 0.03727119860645534}. Best is trial 48 with value: 99.741997.\u001b[0m\n",
            "\u001b[32m[I 2021-06-23 11:30:27,885]\u001b[0m Trial 66 finished with value: 1601.369141 and parameters: {'learning_rate': 1.1373278226708383e-05, 'max_depth': 4, 'l1_reg': 0.061792447689484206, 'l2_reg': 0.9858080154580443}. Best is trial 48 with value: 99.741997.\u001b[0m\n",
            "\u001b[32m[I 2021-06-23 11:30:29,447]\u001b[0m Trial 67 finished with value: 107.632294 and parameters: {'learning_rate': 0.1113832419800771, 'max_depth': 5, 'l1_reg': 0.005998077457133077, 'l2_reg': 0.0077856015003031145}. Best is trial 48 with value: 99.741997.\u001b[0m\n",
            "\u001b[32m[I 2021-06-23 11:30:31,665]\u001b[0m Trial 68 finished with value: 107.040634 and parameters: {'learning_rate': 0.06256896251309073, 'max_depth': 7, 'l1_reg': 0.2820746457328989, 'l2_reg': 0.11498053264806589}. Best is trial 48 with value: 99.741997.\u001b[0m\n",
            "\u001b[32m[I 2021-06-23 11:30:33,211]\u001b[0m Trial 69 finished with value: 104.126007 and parameters: {'learning_rate': 0.2502576620278728, 'max_depth': 5, 'l1_reg': 0.11567661723648306, 'l2_reg': 0.00021889014348558516}. Best is trial 48 with value: 99.741997.\u001b[0m\n",
            "\u001b[32m[I 2021-06-23 11:30:34,733]\u001b[0m Trial 70 finished with value: 113.243385 and parameters: {'learning_rate': 0.34068509873084396, 'max_depth': 5, 'l1_reg': 0.12229737174399387, 'l2_reg': 0.0006411221113952166}. Best is trial 48 with value: 99.741997.\u001b[0m\n",
            "\u001b[32m[I 2021-06-23 11:30:36,337]\u001b[0m Trial 71 finished with value: 101.354836 and parameters: {'learning_rate': 0.20934706136784698, 'max_depth': 5, 'l1_reg': 0.0643353850615948, 'l2_reg': 0.00016233842681066875}. Best is trial 48 with value: 99.741997.\u001b[0m\n",
            "\u001b[32m[I 2021-06-23 11:30:37,870]\u001b[0m Trial 72 finished with value: 99.149338 and parameters: {'learning_rate': 0.22609280810659999, 'max_depth': 5, 'l1_reg': 0.028634638861241086, 'l2_reg': 0.0002134996182485883}. Best is trial 72 with value: 99.149338.\u001b[0m\n",
            "\u001b[32m[I 2021-06-23 11:30:39,384]\u001b[0m Trial 73 finished with value: 104.031631 and parameters: {'learning_rate': 0.1365520372904068, 'max_depth': 5, 'l1_reg': 0.02299186409301659, 'l2_reg': 0.00012008003091128353}. Best is trial 72 with value: 99.149338.\u001b[0m\n",
            "\u001b[32m[I 2021-06-23 11:30:40,894]\u001b[0m Trial 74 finished with value: 111.920967 and parameters: {'learning_rate': 0.4922227082149596, 'max_depth': 5, 'l1_reg': 0.064972697612644, 'l2_reg': 0.0002563383741327997}. Best is trial 72 with value: 99.149338.\u001b[0m\n",
            "\u001b[32m[I 2021-06-23 11:30:42,038]\u001b[0m Trial 75 finished with value: 1396.19812 and parameters: {'learning_rate': 0.001428956866051819, 'max_depth': 4, 'l1_reg': 0.012082684072539365, 'l2_reg': 0.07385741946909702}. Best is trial 72 with value: 99.149338.\u001b[0m\n",
            "\u001b[32m[I 2021-06-23 11:30:42,786]\u001b[0m Trial 76 finished with value: 178.419189 and parameters: {'learning_rate': 0.9445747176850848, 'max_depth': 5, 'l1_reg': 0.03722249143136357, 'l2_reg': 5.0340462533203845e-05}. Best is trial 72 with value: 99.149338.\u001b[0m\n",
            "\u001b[32m[I 2021-06-23 11:30:44,276]\u001b[0m Trial 77 finished with value: 112.965271 and parameters: {'learning_rate': 0.08659627953986877, 'max_depth': 5, 'l1_reg': 0.015480769862352615, 'l2_reg': 0.0007645089070222343}. Best is trial 72 with value: 99.149338.\u001b[0m\n",
            "\u001b[32m[I 2021-06-23 11:30:46,268]\u001b[0m Trial 78 finished with value: 137.776733 and parameters: {'learning_rate': 0.19052540413569996, 'max_depth': 6, 'l1_reg': 0.07161647398016073, 'l2_reg': 0.011299917728958709}. Best is trial 72 with value: 99.149338.\u001b[0m\n",
            "\u001b[32m[I 2021-06-23 11:30:47,807]\u001b[0m Trial 79 finished with value: 105.09034 and parameters: {'learning_rate': 0.3907112235377887, 'max_depth': 5, 'l1_reg': 0.1516106925996363, 'l2_reg': 0.0038731716944374623}. Best is trial 72 with value: 99.149338.\u001b[0m\n",
            "\u001b[32m[I 2021-06-23 11:30:47,985]\u001b[0m Trial 80 finished with value: 3373.878662 and parameters: {'learning_rate': 2.069331651596361, 'max_depth': 5, 'l1_reg': 0.0016380484742025906, 'l2_reg': 0.02268883979908606}. Best is trial 72 with value: 99.149338.\u001b[0m\n",
            "\u001b[32m[I 2021-06-23 11:30:49,512]\u001b[0m Trial 81 finished with value: 100.524719 and parameters: {'learning_rate': 0.14595883628790862, 'max_depth': 5, 'l1_reg': 0.023523209484707618, 'l2_reg': 0.00012793097330166588}. Best is trial 72 with value: 99.149338.\u001b[0m\n",
            "\u001b[32m[I 2021-06-23 11:30:51,026]\u001b[0m Trial 82 finished with value: 106.162857 and parameters: {'learning_rate': 0.13634451654240817, 'max_depth': 5, 'l1_reg': 0.0374334377265805, 'l2_reg': 0.00010972921256063905}. Best is trial 72 with value: 99.149338.\u001b[0m\n",
            "\u001b[32m[I 2021-06-23 11:30:52,569]\u001b[0m Trial 83 finished with value: 100.312653 and parameters: {'learning_rate': 0.23524441483217332, 'max_depth': 5, 'l1_reg': 0.0196586589762063, 'l2_reg': 5.450538101938151e-05}. Best is trial 72 with value: 99.149338.\u001b[0m\n",
            "\u001b[32m[I 2021-06-23 11:30:54,113]\u001b[0m Trial 84 finished with value: 107.235054 and parameters: {'learning_rate': 0.21029600843904686, 'max_depth': 5, 'l1_reg': 0.021506875276123806, 'l2_reg': 1.709041233318191e-05}. Best is trial 72 with value: 99.149338.\u001b[0m\n",
            "\u001b[32m[I 2021-06-23 11:30:55,552]\u001b[0m Trial 85 finished with value: 143.160248 and parameters: {'learning_rate': 0.03610432145261555, 'max_depth': 5, 'l1_reg': 0.004929451329193374, 'l2_reg': 5.391585165799018e-05}. Best is trial 72 with value: 99.149338.\u001b[0m\n",
            "\u001b[32m[I 2021-06-23 11:30:57,095]\u001b[0m Trial 86 finished with value: 130.015961 and parameters: {'learning_rate': 0.6090252981178251, 'max_depth': 5, 'l1_reg': 0.04996525846729305, 'l2_reg': 0.00016378387908571}. Best is trial 72 with value: 99.149338.\u001b[0m\n",
            "\u001b[32m[I 2021-06-23 11:30:58,273]\u001b[0m Trial 87 finished with value: 118.903397 and parameters: {'learning_rate': 0.09526418299808435, 'max_depth': 4, 'l1_reg': 0.016640063015259516, 'l2_reg': 2.949898383469206e-05}. Best is trial 72 with value: 99.149338.\u001b[0m\n",
            "\u001b[32m[I 2021-06-23 11:31:00,169]\u001b[0m Trial 88 finished with value: 113.181305 and parameters: {'learning_rate': 0.31194981276872974, 'max_depth': 6, 'l1_reg': 0.008615800011778129, 'l2_reg': 7.741241008904695e-05}. Best is trial 72 with value: 99.149338.\u001b[0m\n",
            "\u001b[32m[I 2021-06-23 11:31:01,641]\u001b[0m Trial 89 finished with value: 131.113968 and parameters: {'learning_rate': 0.050688660240114224, 'max_depth': 5, 'l1_reg': 0.03088623988644919, 'l2_reg': 3.659201221127757e-05}. Best is trial 72 with value: 99.149338.\u001b[0m\n",
            "\u001b[32m[I 2021-06-23 11:31:03,127]\u001b[0m Trial 90 finished with value: 124.331345 and parameters: {'learning_rate': 0.0689885927609988, 'max_depth': 5, 'l1_reg': 0.00012544678837156235, 'l2_reg': 0.00021840724608857126}. Best is trial 72 with value: 99.149338.\u001b[0m\n",
            "\u001b[32m[I 2021-06-23 11:31:04,650]\u001b[0m Trial 91 finished with value: 96.526268 and parameters: {'learning_rate': 0.15129162180672923, 'max_depth': 5, 'l1_reg': 0.25538014350100363, 'l2_reg': 0.00010465731482823709}. Best is trial 91 with value: 96.526268.\u001b[0m\n",
            "\u001b[32m[I 2021-06-23 11:31:06,174]\u001b[0m Trial 92 finished with value: 99.636368 and parameters: {'learning_rate': 0.14995084345620027, 'max_depth': 5, 'l1_reg': 0.05662062666464725, 'l2_reg': 0.0003305541838496519}. Best is trial 91 with value: 96.526268.\u001b[0m\n",
            "\u001b[32m[I 2021-06-23 11:31:07,718]\u001b[0m Trial 93 finished with value: 99.865639 and parameters: {'learning_rate': 0.238219514229075, 'max_depth': 5, 'l1_reg': 0.05657145146180397, 'l2_reg': 0.00036067648589724094}. Best is trial 91 with value: 96.526268.\u001b[0m\n",
            "\u001b[32m[I 2021-06-23 11:31:09,278]\u001b[0m Trial 94 finished with value: 105.052399 and parameters: {'learning_rate': 0.130400561521936, 'max_depth': 5, 'l1_reg': 0.26308934390607625, 'l2_reg': 0.00038553377507934844}. Best is trial 91 with value: 96.526268.\u001b[0m\n",
            "\u001b[32m[I 2021-06-23 11:31:10,801]\u001b[0m Trial 95 finished with value: 103.72847 and parameters: {'learning_rate': 0.38550164439296836, 'max_depth': 5, 'l1_reg': 0.052525324287931864, 'l2_reg': 0.000570844881016103}. Best is trial 91 with value: 96.526268.\u001b[0m\n",
            "\u001b[32m[I 2021-06-23 11:31:12,378]\u001b[0m Trial 96 finished with value: 139.661285 and parameters: {'learning_rate': 0.616078865189596, 'max_depth': 5, 'l1_reg': 0.424320402113049, 'l2_reg': 0.0010488814853479482}. Best is trial 91 with value: 96.526268.\u001b[0m\n",
            "\u001b[32m[I 2021-06-23 11:31:13,918]\u001b[0m Trial 97 finished with value: 100.00351 and parameters: {'learning_rate': 0.23531681923918213, 'max_depth': 5, 'l1_reg': 0.018722767215871884, 'l2_reg': 0.0002755813052466772}. Best is trial 91 with value: 96.526268.\u001b[0m\n",
            "\u001b[32m[I 2021-06-23 11:31:15,425]\u001b[0m Trial 98 finished with value: 109.501717 and parameters: {'learning_rate': 0.09608021563121677, 'max_depth': 5, 'l1_reg': 0.011086615081801641, 'l2_reg': 0.00027981223589946207}. Best is trial 91 with value: 96.526268.\u001b[0m\n",
            "\u001b[32m[I 2021-06-23 11:31:16,845]\u001b[0m Trial 99 finished with value: 434.799713 and parameters: {'learning_rate': 0.013693902543913974, 'max_depth': 5, 'l1_reg': 0.01805234017140374, 'l2_reg': 9.976700577870038e-05}. Best is trial 91 with value: 96.526268.\u001b[0m\n",
            "\n"
          ],
          "name": "stdout"
        }
      ]
    },
    {
      "cell_type": "code",
      "metadata": {
        "colab": {
          "base_uri": "https://localhost:8080/",
          "height": 0
        },
        "id": "GMk0I6lckkJn",
        "outputId": "0bd43747-96a7-4804-bba9-27ab4921a29f"
      },
      "source": [
        "best_params=study.best_params\n",
        "best_params"
      ],
      "id": "GMk0I6lckkJn",
      "execution_count": 174,
      "outputs": [
        {
          "output_type": "execute_result",
          "data": {
            "text/plain": [
              "{'l1_reg': 0.25538014350100363,\n",
              " 'l2_reg': 0.00010465731482823709,\n",
              " 'learning_rate': 0.15129162180672923,\n",
              " 'max_depth': 5}"
            ]
          },
          "metadata": {
            "tags": []
          },
          "execution_count": 174
        }
      ]
    },
    {
      "cell_type": "code",
      "metadata": {
        "colab": {
          "base_uri": "https://localhost:8080/",
          "height": 0
        },
        "id": "mYLosibjmhaz",
        "outputId": "0c3653eb-54e5-4440-f954-7e478a79f746"
      },
      "source": [
        "XGB_model = xgboost.train(best_params,dtrain=dtrain,num_boost_round=350,evals=[(dval,'eval')],early_stopping_rounds=10)"
      ],
      "id": "mYLosibjmhaz",
      "execution_count": 175,
      "outputs": [
        {
          "output_type": "stream",
          "text": [
            "[0]\teval-rmse:1369.85\n",
            "Will train until eval-rmse hasn't improved in 10 rounds.\n",
            "[1]\teval-rmse:1168.83\n",
            "[2]\teval-rmse:996.906\n",
            "[3]\teval-rmse:854.517\n",
            "[4]\teval-rmse:735.179\n",
            "[5]\teval-rmse:629.579\n",
            "[6]\teval-rmse:541.897\n",
            "[7]\teval-rmse:469.151\n",
            "[8]\teval-rmse:408.362\n",
            "[9]\teval-rmse:356.487\n",
            "[10]\teval-rmse:314.406\n",
            "[11]\teval-rmse:278.254\n",
            "[12]\teval-rmse:250.261\n",
            "[13]\teval-rmse:227.48\n",
            "[14]\teval-rmse:208.905\n",
            "[15]\teval-rmse:193.24\n",
            "[16]\teval-rmse:181.203\n",
            "[17]\teval-rmse:172.001\n",
            "[18]\teval-rmse:164.709\n",
            "[19]\teval-rmse:158.881\n",
            "[20]\teval-rmse:154.504\n",
            "[21]\teval-rmse:151.423\n",
            "[22]\teval-rmse:148.585\n",
            "[23]\teval-rmse:145.89\n",
            "[24]\teval-rmse:143.834\n",
            "[25]\teval-rmse:142.839\n",
            "[26]\teval-rmse:141.382\n",
            "[27]\teval-rmse:140.16\n",
            "[28]\teval-rmse:139.339\n",
            "[29]\teval-rmse:138.5\n",
            "[30]\teval-rmse:137.869\n",
            "[31]\teval-rmse:137.218\n",
            "[32]\teval-rmse:136.544\n",
            "[33]\teval-rmse:136.373\n",
            "[34]\teval-rmse:135.932\n",
            "[35]\teval-rmse:134.466\n",
            "[36]\teval-rmse:133.439\n",
            "[37]\teval-rmse:133.243\n",
            "[38]\teval-rmse:132.762\n",
            "[39]\teval-rmse:132.323\n",
            "[40]\teval-rmse:131.665\n",
            "[41]\teval-rmse:131.052\n",
            "[42]\teval-rmse:130.493\n",
            "[43]\teval-rmse:129.876\n",
            "[44]\teval-rmse:129.546\n",
            "[45]\teval-rmse:129.245\n",
            "[46]\teval-rmse:128.161\n",
            "[47]\teval-rmse:126.697\n",
            "[48]\teval-rmse:126.267\n",
            "[49]\teval-rmse:125.922\n",
            "[50]\teval-rmse:125.526\n",
            "[51]\teval-rmse:125.205\n",
            "[52]\teval-rmse:124.052\n",
            "[53]\teval-rmse:123.625\n",
            "[54]\teval-rmse:123.3\n",
            "[55]\teval-rmse:122.736\n",
            "[56]\teval-rmse:122.112\n",
            "[57]\teval-rmse:121.203\n",
            "[58]\teval-rmse:120.605\n",
            "[59]\teval-rmse:120.237\n",
            "[60]\teval-rmse:119.738\n",
            "[61]\teval-rmse:119.332\n",
            "[62]\teval-rmse:118.963\n",
            "[63]\teval-rmse:118.346\n",
            "[64]\teval-rmse:117.681\n",
            "[65]\teval-rmse:117.142\n",
            "[66]\teval-rmse:117.004\n",
            "[67]\teval-rmse:116.645\n",
            "[68]\teval-rmse:116.087\n",
            "[69]\teval-rmse:115.834\n",
            "[70]\teval-rmse:115.415\n",
            "[71]\teval-rmse:115.162\n",
            "[72]\teval-rmse:114.604\n",
            "[73]\teval-rmse:114.265\n",
            "[74]\teval-rmse:113.637\n",
            "[75]\teval-rmse:113.289\n",
            "[76]\teval-rmse:112.9\n",
            "[77]\teval-rmse:112.641\n",
            "[78]\teval-rmse:112.286\n",
            "[79]\teval-rmse:112.018\n",
            "[80]\teval-rmse:111.846\n",
            "[81]\teval-rmse:111.647\n",
            "[82]\teval-rmse:111.182\n",
            "[83]\teval-rmse:110.742\n",
            "[84]\teval-rmse:110.403\n",
            "[85]\teval-rmse:110.126\n",
            "[86]\teval-rmse:109.717\n",
            "[87]\teval-rmse:109.365\n",
            "[88]\teval-rmse:109.098\n",
            "[89]\teval-rmse:108.7\n",
            "[90]\teval-rmse:108.445\n",
            "[91]\teval-rmse:108.201\n",
            "[92]\teval-rmse:108.096\n",
            "[93]\teval-rmse:108.005\n",
            "[94]\teval-rmse:107.612\n",
            "[95]\teval-rmse:107.4\n",
            "[96]\teval-rmse:107.179\n",
            "[97]\teval-rmse:106.874\n",
            "[98]\teval-rmse:106.607\n",
            "[99]\teval-rmse:106.268\n",
            "[100]\teval-rmse:105.851\n",
            "[101]\teval-rmse:105.633\n",
            "[102]\teval-rmse:105.297\n",
            "[103]\teval-rmse:105.045\n",
            "[104]\teval-rmse:104.907\n",
            "[105]\teval-rmse:104.611\n",
            "[106]\teval-rmse:104.111\n",
            "[107]\teval-rmse:103.999\n",
            "[108]\teval-rmse:103.697\n",
            "[109]\teval-rmse:103.853\n",
            "[110]\teval-rmse:103.65\n",
            "[111]\teval-rmse:103.549\n",
            "[112]\teval-rmse:103.347\n",
            "[113]\teval-rmse:103.099\n",
            "[114]\teval-rmse:102.994\n",
            "[115]\teval-rmse:102.784\n",
            "[116]\teval-rmse:102.752\n",
            "[117]\teval-rmse:102.608\n",
            "[118]\teval-rmse:102.161\n",
            "[119]\teval-rmse:102.014\n",
            "[120]\teval-rmse:101.766\n",
            "[121]\teval-rmse:101.699\n",
            "[122]\teval-rmse:101.522\n",
            "[123]\teval-rmse:101.397\n",
            "[124]\teval-rmse:101.153\n",
            "[125]\teval-rmse:101.08\n",
            "[126]\teval-rmse:101.046\n",
            "[127]\teval-rmse:100.826\n",
            "[128]\teval-rmse:100.898\n",
            "[129]\teval-rmse:100.812\n",
            "[130]\teval-rmse:100.656\n",
            "[131]\teval-rmse:100.521\n",
            "[132]\teval-rmse:100.267\n",
            "[133]\teval-rmse:100.169\n",
            "[134]\teval-rmse:99.9178\n",
            "[135]\teval-rmse:99.6824\n",
            "[136]\teval-rmse:99.4361\n",
            "[137]\teval-rmse:99.4545\n",
            "[138]\teval-rmse:99.3172\n",
            "[139]\teval-rmse:99.3019\n",
            "[140]\teval-rmse:99.2159\n",
            "[141]\teval-rmse:99.2046\n",
            "[142]\teval-rmse:98.9764\n",
            "[143]\teval-rmse:98.7909\n",
            "[144]\teval-rmse:98.6416\n",
            "[145]\teval-rmse:98.5822\n",
            "[146]\teval-rmse:98.4871\n",
            "[147]\teval-rmse:98.3016\n",
            "[148]\teval-rmse:98.1945\n",
            "[149]\teval-rmse:98.0728\n",
            "[150]\teval-rmse:98.0109\n",
            "[151]\teval-rmse:97.8325\n",
            "[152]\teval-rmse:97.7228\n",
            "[153]\teval-rmse:97.4391\n",
            "[154]\teval-rmse:97.4485\n",
            "[155]\teval-rmse:97.3315\n",
            "[156]\teval-rmse:97.2002\n",
            "[157]\teval-rmse:97.055\n",
            "[158]\teval-rmse:97.0042\n",
            "[159]\teval-rmse:96.9035\n",
            "[160]\teval-rmse:96.7458\n",
            "[161]\teval-rmse:96.6355\n",
            "[162]\teval-rmse:96.5072\n",
            "[163]\teval-rmse:96.3011\n",
            "[164]\teval-rmse:96.2062\n",
            "[165]\teval-rmse:96.0598\n",
            "[166]\teval-rmse:95.9508\n",
            "[167]\teval-rmse:95.7505\n",
            "[168]\teval-rmse:95.6903\n",
            "[169]\teval-rmse:95.6771\n",
            "[170]\teval-rmse:95.624\n",
            "[171]\teval-rmse:95.4885\n",
            "[172]\teval-rmse:95.4579\n",
            "[173]\teval-rmse:95.3858\n",
            "[174]\teval-rmse:95.2515\n",
            "[175]\teval-rmse:95.1387\n",
            "[176]\teval-rmse:95.0352\n",
            "[177]\teval-rmse:94.9802\n",
            "[178]\teval-rmse:94.905\n",
            "[179]\teval-rmse:94.8298\n",
            "[180]\teval-rmse:94.6987\n",
            "[181]\teval-rmse:94.6682\n",
            "[182]\teval-rmse:94.6225\n",
            "[183]\teval-rmse:94.5617\n",
            "[184]\teval-rmse:94.4524\n",
            "[185]\teval-rmse:94.3571\n",
            "[186]\teval-rmse:94.3056\n",
            "[187]\teval-rmse:94.203\n",
            "[188]\teval-rmse:94.0943\n",
            "[189]\teval-rmse:93.9492\n",
            "[190]\teval-rmse:93.8694\n",
            "[191]\teval-rmse:93.7096\n",
            "[192]\teval-rmse:93.7242\n",
            "[193]\teval-rmse:93.7099\n",
            "[194]\teval-rmse:93.6207\n",
            "[195]\teval-rmse:93.6208\n",
            "[196]\teval-rmse:93.5255\n",
            "[197]\teval-rmse:93.4914\n",
            "[198]\teval-rmse:93.4335\n",
            "[199]\teval-rmse:93.2987\n",
            "[200]\teval-rmse:93.2915\n",
            "[201]\teval-rmse:93.2111\n",
            "[202]\teval-rmse:93.1612\n",
            "[203]\teval-rmse:93.1138\n",
            "[204]\teval-rmse:93.0389\n",
            "[205]\teval-rmse:92.9047\n",
            "[206]\teval-rmse:92.8702\n",
            "[207]\teval-rmse:92.7937\n",
            "[208]\teval-rmse:92.7248\n",
            "[209]\teval-rmse:92.676\n",
            "[210]\teval-rmse:92.5938\n",
            "[211]\teval-rmse:92.6089\n",
            "[212]\teval-rmse:92.5461\n",
            "[213]\teval-rmse:92.4745\n",
            "[214]\teval-rmse:92.4412\n",
            "[215]\teval-rmse:92.4435\n",
            "[216]\teval-rmse:92.3954\n",
            "[217]\teval-rmse:92.2918\n",
            "[218]\teval-rmse:92.1793\n",
            "[219]\teval-rmse:92.2151\n",
            "[220]\teval-rmse:92.1729\n",
            "[221]\teval-rmse:92.1138\n",
            "[222]\teval-rmse:92.0174\n",
            "[223]\teval-rmse:91.9879\n",
            "[224]\teval-rmse:92.0034\n",
            "[225]\teval-rmse:91.9327\n",
            "[226]\teval-rmse:91.9365\n",
            "[227]\teval-rmse:91.8925\n",
            "[228]\teval-rmse:91.7924\n",
            "[229]\teval-rmse:91.7427\n",
            "[230]\teval-rmse:91.7428\n",
            "[231]\teval-rmse:91.7238\n",
            "[232]\teval-rmse:91.6979\n",
            "[233]\teval-rmse:91.6732\n",
            "[234]\teval-rmse:91.5617\n",
            "[235]\teval-rmse:91.4957\n",
            "[236]\teval-rmse:91.4575\n",
            "[237]\teval-rmse:91.3613\n",
            "[238]\teval-rmse:91.3154\n",
            "[239]\teval-rmse:91.2803\n",
            "[240]\teval-rmse:91.2312\n",
            "[241]\teval-rmse:91.1927\n",
            "[242]\teval-rmse:91.1774\n",
            "[243]\teval-rmse:91.1858\n",
            "[244]\teval-rmse:91.1147\n",
            "[245]\teval-rmse:91.0511\n",
            "[246]\teval-rmse:90.9815\n",
            "[247]\teval-rmse:90.9514\n",
            "[248]\teval-rmse:90.9272\n",
            "[249]\teval-rmse:90.834\n",
            "[250]\teval-rmse:90.7968\n",
            "[251]\teval-rmse:90.8015\n",
            "[252]\teval-rmse:90.76\n",
            "[253]\teval-rmse:90.7615\n",
            "[254]\teval-rmse:90.7247\n",
            "[255]\teval-rmse:90.6718\n",
            "[256]\teval-rmse:90.6287\n",
            "[257]\teval-rmse:90.574\n",
            "[258]\teval-rmse:90.5452\n",
            "[259]\teval-rmse:90.5211\n",
            "[260]\teval-rmse:90.4872\n",
            "[261]\teval-rmse:90.4469\n",
            "[262]\teval-rmse:90.4079\n",
            "[263]\teval-rmse:90.3766\n",
            "[264]\teval-rmse:90.3504\n",
            "[265]\teval-rmse:90.3352\n",
            "[266]\teval-rmse:90.2609\n",
            "[267]\teval-rmse:90.2408\n",
            "[268]\teval-rmse:90.1777\n",
            "[269]\teval-rmse:90.1042\n",
            "[270]\teval-rmse:90.0547\n",
            "[271]\teval-rmse:90.0141\n",
            "[272]\teval-rmse:89.997\n",
            "[273]\teval-rmse:89.9453\n",
            "[274]\teval-rmse:89.9493\n",
            "[275]\teval-rmse:89.9219\n",
            "[276]\teval-rmse:89.907\n",
            "[277]\teval-rmse:89.8763\n",
            "[278]\teval-rmse:89.8352\n",
            "[279]\teval-rmse:89.7754\n",
            "[280]\teval-rmse:89.7463\n",
            "[281]\teval-rmse:89.7716\n",
            "[282]\teval-rmse:89.7477\n",
            "[283]\teval-rmse:89.7029\n",
            "[284]\teval-rmse:89.6562\n",
            "[285]\teval-rmse:89.6129\n",
            "[286]\teval-rmse:89.5912\n",
            "[287]\teval-rmse:89.583\n",
            "[288]\teval-rmse:89.5267\n",
            "[289]\teval-rmse:89.5211\n",
            "[290]\teval-rmse:89.4769\n",
            "[291]\teval-rmse:89.4597\n",
            "[292]\teval-rmse:89.4514\n",
            "[293]\teval-rmse:89.4091\n",
            "[294]\teval-rmse:89.3983\n",
            "[295]\teval-rmse:89.3519\n",
            "[296]\teval-rmse:89.322\n",
            "[297]\teval-rmse:89.3035\n",
            "[298]\teval-rmse:89.3092\n",
            "[299]\teval-rmse:89.2605\n",
            "[300]\teval-rmse:89.2462\n",
            "[301]\teval-rmse:89.1442\n",
            "[302]\teval-rmse:89.128\n",
            "[303]\teval-rmse:89.0651\n",
            "[304]\teval-rmse:89.0366\n",
            "[305]\teval-rmse:88.9752\n",
            "[306]\teval-rmse:88.9434\n",
            "[307]\teval-rmse:88.9582\n",
            "[308]\teval-rmse:88.9208\n",
            "[309]\teval-rmse:88.8745\n",
            "[310]\teval-rmse:88.852\n",
            "[311]\teval-rmse:88.869\n",
            "[312]\teval-rmse:88.8374\n",
            "[313]\teval-rmse:88.8159\n",
            "[314]\teval-rmse:88.8075\n",
            "[315]\teval-rmse:88.8079\n",
            "[316]\teval-rmse:88.8131\n",
            "[317]\teval-rmse:88.7664\n",
            "[318]\teval-rmse:88.6551\n",
            "[319]\teval-rmse:88.6486\n",
            "[320]\teval-rmse:88.6155\n",
            "[321]\teval-rmse:88.6036\n",
            "[322]\teval-rmse:88.5779\n",
            "[323]\teval-rmse:88.5889\n",
            "[324]\teval-rmse:88.5637\n",
            "[325]\teval-rmse:88.5473\n",
            "[326]\teval-rmse:88.4974\n",
            "[327]\teval-rmse:88.4782\n",
            "[328]\teval-rmse:88.4405\n",
            "[329]\teval-rmse:88.4252\n",
            "[330]\teval-rmse:88.4037\n",
            "[331]\teval-rmse:88.3799\n",
            "[332]\teval-rmse:88.3552\n",
            "[333]\teval-rmse:88.3415\n",
            "[334]\teval-rmse:88.2873\n",
            "[335]\teval-rmse:88.2627\n",
            "[336]\teval-rmse:88.2113\n",
            "[337]\teval-rmse:88.1903\n",
            "[338]\teval-rmse:88.151\n",
            "[339]\teval-rmse:88.1507\n",
            "[340]\teval-rmse:88.1419\n",
            "[341]\teval-rmse:88.1314\n",
            "[342]\teval-rmse:88.1381\n",
            "[343]\teval-rmse:88.0912\n",
            "[344]\teval-rmse:88.0236\n",
            "[345]\teval-rmse:87.9817\n",
            "[346]\teval-rmse:87.9308\n",
            "[347]\teval-rmse:87.9336\n",
            "[348]\teval-rmse:87.9185\n",
            "[349]\teval-rmse:87.8813\n"
          ],
          "name": "stdout"
        }
      ]
    },
    {
      "cell_type": "code",
      "metadata": {
        "id": "ad5n0jwxFBtg"
      },
      "source": [
        "y_train= np.array(y_train)\n",
        "y_pred_train = np.array(XGB_model.predict(dtrain))"
      ],
      "id": "ad5n0jwxFBtg",
      "execution_count": 180,
      "outputs": []
    },
    {
      "cell_type": "code",
      "metadata": {
        "id": "i-oJymqbE7S1"
      },
      "source": [
        "y_val = np.array(y_val)\n",
        "y_pred_val = np.array(XGB_model.predict(dval))"
      ],
      "id": "i-oJymqbE7S1",
      "execution_count": 181,
      "outputs": []
    },
    {
      "cell_type": "code",
      "metadata": {
        "id": "BDNyQAj4mgv1"
      },
      "source": [
        "y_true = np.array(y_test)\n",
        "y_pred = np.array(XGB_model.predict(dtest))"
      ],
      "id": "BDNyQAj4mgv1",
      "execution_count": 182,
      "outputs": []
    },
    {
      "cell_type": "code",
      "metadata": {
        "colab": {
          "base_uri": "https://localhost:8080/",
          "height": 0
        },
        "id": "nUoFKrGC4QEw",
        "outputId": "03aed74a-ad0e-40ad-8f22-f3af480ed1ec"
      },
      "source": [
        "r2 = r2_score(y_true, y_pred)\n",
        "rmsc = np.sqrt(mean_squared_error(y_true,y_pred))\n",
        "r2_train = r2_score(y_train,y_pred_train)\n",
        "rmsc_train = np.sqrt(mean_squared_error(y_train,y_pred_train))\n",
        "r2_val = r2_score(y_val,y_pred_val)\n",
        "rmsc_val = np.sqrt(mean_squared_error(y_val,y_pred_val))\n",
        "print(\"R^2 Score : {:.4f}\".format(r2_train))\n",
        "print(\"RMSE Train: {:.4f}\".format(rmsc_train))\n",
        "print(\"R^2 Score : {:.4f}\".format(r2_val))\n",
        "print(\"RMSE val: {:.4f}\".format(rmsc_val))\n",
        "print(\"R^2 Score : {:.4f}\".format(r2))\n",
        "print(\"RMSE Test: {:.4f}\".format(rmsc))\n"
      ],
      "id": "nUoFKrGC4QEw",
      "execution_count": 183,
      "outputs": [
        {
          "output_type": "stream",
          "text": [
            "R^2 Score : 0.9994\n",
            "RMSE Train: 21.7427\n",
            "R^2 Score : 0.9891\n",
            "RMSE val: 87.8813\n",
            "R^2 Score : 0.9911\n",
            "RMSE Test: 93.2806\n"
          ],
          "name": "stdout"
        }
      ]
    },
    {
      "cell_type": "code",
      "metadata": {
        "id": "gF_LXINk6k4D"
      },
      "source": [
        "import pickle\n",
        "filename = 'xgb_Optuna.pkl'\n",
        "pickle.dump(XGB_model, open(filename, 'wb'))"
      ],
      "id": "gF_LXINk6k4D",
      "execution_count": 37,
      "outputs": []
    },
    {
      "cell_type": "markdown",
      "metadata": {
        "id": "Tszc393_OH3Y"
      },
      "source": [
        "### lightGBM+Optuna "
      ],
      "id": "Tszc393_OH3Y"
    },
    {
      "cell_type": "code",
      "metadata": {
        "id": "4nELnsO4DrTk"
      },
      "source": [
        "def objective(trial):\n",
        "    dtrain = lgb.Dataset(X_train, label=y_train)\n",
        "    dvalid = lgb.Dataset(X_val, label=y_val)\n",
        "    dtest = lgb.Dataset(X_test,label=y_test)\n",
        "\n",
        "    param = {\n",
        "        \"metric\": \"rmse\",\n",
        "        \"verbosity\": -1,\n",
        "        \"boosting_type\": \"gbdt\",\n",
        "        \"bagging_fraction\": trial.suggest_float(\"bagging_fraction\", 0.4, 1.0),\n",
        "        \"bagging_freq\": trial.suggest_int(\"bagging_freq\", 1, 7),\n",
        "        \"min_child_samples\": trial.suggest_int(\"min_child_samples\", 5, 100),\n",
        "    }\n",
        "\n",
        "    # Add a callback for pruning.\n",
        "    pruning_callback = optuna.integration.LightGBMPruningCallback(trial, \"rmse\")\n",
        "    gbm = lgb.train(\n",
        "        param, dtrain, valid_sets=[dvalid], verbose_eval=False, callbacks=[pruning_callback]\n",
        "    )\n",
        "\n",
        "    preds = gbm.predict(X_val)\n",
        "    RMSE = np.sqrt(mean_squared_error(y_val,preds))\n",
        "    return RMSE"
      ],
      "id": "4nELnsO4DrTk",
      "execution_count": 117,
      "outputs": []
    },
    {
      "cell_type": "code",
      "metadata": {
        "id": "-VMib0X4aoDS"
      },
      "source": [
        "study1 = optuna.create_study()\n",
        "study1.optimize(objective, n_trials=100, show_progress_bar=True)"
      ],
      "id": "-VMib0X4aoDS",
      "execution_count": null,
      "outputs": []
    },
    {
      "cell_type": "code",
      "metadata": {
        "colab": {
          "base_uri": "https://localhost:8080/",
          "height": 0
        },
        "id": "uo0ilixsZ4LI",
        "outputId": "7268dd1c-9dba-4dcf-8c4e-1e1b39ac8475"
      },
      "source": [
        "best_params=study1.best_params\n",
        "best_params"
      ],
      "id": "uo0ilixsZ4LI",
      "execution_count": 119,
      "outputs": [
        {
          "output_type": "execute_result",
          "data": {
            "text/plain": [
              "{'bagging_fraction': 0.9703729261124453,\n",
              " 'bagging_freq': 2,\n",
              " 'min_child_samples': 60}"
            ]
          },
          "metadata": {
            "tags": []
          },
          "execution_count": 119
        }
      ]
    },
    {
      "cell_type": "code",
      "metadata": {
        "id": "k2itAbgDgJzg"
      },
      "source": [
        "dtrain = lgb.Dataset(X_train, label=y_train)\n",
        "dvalid = lgb.Dataset(X_val, label=y_val)\n",
        "dtest = lgb.Dataset(X_test,label=y_test)\n",
        "gbm_model = lgb.train(\n",
        "        best_params, dtrain, valid_sets=[dvalid], verbose_eval=False\n",
        "    )"
      ],
      "id": "k2itAbgDgJzg",
      "execution_count": 122,
      "outputs": []
    },
    {
      "cell_type": "code",
      "metadata": {
        "colab": {
          "base_uri": "https://localhost:8080/",
          "height": 0
        },
        "id": "eLK7xkw8hD5A",
        "outputId": "1e0eedcd-64c4-4169-d4c4-58a29348420d"
      },
      "source": [
        "preds = gbm_model.predict(X_val)\n",
        "rmsc_val = np.sqrt(mean_squared_error(y_val,preds))\n",
        "r2_val = r2_score(y_val,preds)\n",
        "\n",
        "preds_test = gbm_model.predict(X_test)\n",
        "r2_test = r2_score(y_test,preds_test)\n",
        "rmsc_test = np.sqrt(mean_squared_error(y_test,preds_test))\n",
        "\n",
        "print(\"R^2 Score : {:.4f}\".format(r2_val))\n",
        "print(\"RMSE val: {:.4f}\".format(rmsc_val))\n",
        "print(\"R^2 Score : {:.4f}\".format(r2_test))\n",
        "print(\"RMSE Test: {:.4f}\".format(rmsc_test))\n"
      ],
      "id": "eLK7xkw8hD5A",
      "execution_count": 130,
      "outputs": [
        {
          "output_type": "stream",
          "text": [
            "R^2 Score : 0.9808\n",
            "RMSE val: 116.7426\n",
            "R^2 Score : 0.9468\n",
            "RMSE Test: 228.1812\n"
          ],
          "name": "stdout"
        }
      ]
    },
    {
      "cell_type": "code",
      "metadata": {
        "id": "sqbGtVxqhNUq"
      },
      "source": [
        "filename = 'LightGBM_Optuna.pkl'\n",
        "pickle.dump(gbm_model, open(filename, 'wb'))"
      ],
      "id": "sqbGtVxqhNUq",
      "execution_count": 131,
      "outputs": []
    },
    {
      "cell_type": "code",
      "metadata": {
        "id": "h2uJjaF9kW4H"
      },
      "source": [
        ""
      ],
      "id": "h2uJjaF9kW4H",
      "execution_count": null,
      "outputs": []
    }
  ]
}